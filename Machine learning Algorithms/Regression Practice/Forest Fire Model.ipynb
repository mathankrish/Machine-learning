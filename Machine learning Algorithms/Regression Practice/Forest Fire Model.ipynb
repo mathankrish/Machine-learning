{
 "cells": [
  {
   "cell_type": "code",
   "execution_count": 2,
   "metadata": {},
   "outputs": [],
   "source": [
    "import numpy as np\n",
    "import pandas as pd\n",
    "import matplotlib.pyplot as plt\n",
    "from scipy import stats\n",
    "import seaborn as sns\n",
    "%matplotlib inline"
   ]
  },
  {
   "cell_type": "code",
   "execution_count": 175,
   "metadata": {},
   "outputs": [
    {
     "data": {
      "text/html": [
       "<div>\n",
       "<style scoped>\n",
       "    .dataframe tbody tr th:only-of-type {\n",
       "        vertical-align: middle;\n",
       "    }\n",
       "\n",
       "    .dataframe tbody tr th {\n",
       "        vertical-align: top;\n",
       "    }\n",
       "\n",
       "    .dataframe thead th {\n",
       "        text-align: right;\n",
       "    }\n",
       "</style>\n",
       "<table border=\"1\" class=\"dataframe\">\n",
       "  <thead>\n",
       "    <tr style=\"text-align: right;\">\n",
       "      <th></th>\n",
       "      <th>X</th>\n",
       "      <th>Y</th>\n",
       "      <th>month</th>\n",
       "      <th>day</th>\n",
       "      <th>FFMC</th>\n",
       "      <th>DMC</th>\n",
       "      <th>DC</th>\n",
       "      <th>ISI</th>\n",
       "      <th>temp</th>\n",
       "      <th>RH</th>\n",
       "      <th>wind</th>\n",
       "      <th>rain</th>\n",
       "      <th>area</th>\n",
       "    </tr>\n",
       "  </thead>\n",
       "  <tbody>\n",
       "    <tr>\n",
       "      <th>0</th>\n",
       "      <td>7</td>\n",
       "      <td>5</td>\n",
       "      <td>mar</td>\n",
       "      <td>fri</td>\n",
       "      <td>86.2</td>\n",
       "      <td>26.2</td>\n",
       "      <td>94.3</td>\n",
       "      <td>5.1</td>\n",
       "      <td>8.2</td>\n",
       "      <td>51</td>\n",
       "      <td>6.7</td>\n",
       "      <td>0.0</td>\n",
       "      <td>0.0</td>\n",
       "    </tr>\n",
       "    <tr>\n",
       "      <th>1</th>\n",
       "      <td>7</td>\n",
       "      <td>4</td>\n",
       "      <td>oct</td>\n",
       "      <td>tue</td>\n",
       "      <td>90.6</td>\n",
       "      <td>35.4</td>\n",
       "      <td>669.1</td>\n",
       "      <td>6.7</td>\n",
       "      <td>18.0</td>\n",
       "      <td>33</td>\n",
       "      <td>0.9</td>\n",
       "      <td>0.0</td>\n",
       "      <td>0.0</td>\n",
       "    </tr>\n",
       "    <tr>\n",
       "      <th>2</th>\n",
       "      <td>7</td>\n",
       "      <td>4</td>\n",
       "      <td>oct</td>\n",
       "      <td>sat</td>\n",
       "      <td>90.6</td>\n",
       "      <td>43.7</td>\n",
       "      <td>686.9</td>\n",
       "      <td>6.7</td>\n",
       "      <td>14.6</td>\n",
       "      <td>33</td>\n",
       "      <td>1.3</td>\n",
       "      <td>0.0</td>\n",
       "      <td>0.0</td>\n",
       "    </tr>\n",
       "    <tr>\n",
       "      <th>3</th>\n",
       "      <td>8</td>\n",
       "      <td>6</td>\n",
       "      <td>mar</td>\n",
       "      <td>fri</td>\n",
       "      <td>91.7</td>\n",
       "      <td>33.3</td>\n",
       "      <td>77.5</td>\n",
       "      <td>9.0</td>\n",
       "      <td>8.3</td>\n",
       "      <td>97</td>\n",
       "      <td>4.0</td>\n",
       "      <td>0.2</td>\n",
       "      <td>0.0</td>\n",
       "    </tr>\n",
       "    <tr>\n",
       "      <th>4</th>\n",
       "      <td>8</td>\n",
       "      <td>6</td>\n",
       "      <td>mar</td>\n",
       "      <td>sun</td>\n",
       "      <td>89.3</td>\n",
       "      <td>51.3</td>\n",
       "      <td>102.2</td>\n",
       "      <td>9.6</td>\n",
       "      <td>11.4</td>\n",
       "      <td>99</td>\n",
       "      <td>1.8</td>\n",
       "      <td>0.0</td>\n",
       "      <td>0.0</td>\n",
       "    </tr>\n",
       "  </tbody>\n",
       "</table>\n",
       "</div>"
      ],
      "text/plain": [
       "   X  Y month  day  FFMC   DMC     DC  ISI  temp  RH  wind  rain  area\n",
       "0  7  5   mar  fri  86.2  26.2   94.3  5.1   8.2  51   6.7   0.0   0.0\n",
       "1  7  4   oct  tue  90.6  35.4  669.1  6.7  18.0  33   0.9   0.0   0.0\n",
       "2  7  4   oct  sat  90.6  43.7  686.9  6.7  14.6  33   1.3   0.0   0.0\n",
       "3  8  6   mar  fri  91.7  33.3   77.5  9.0   8.3  97   4.0   0.2   0.0\n",
       "4  8  6   mar  sun  89.3  51.3  102.2  9.6  11.4  99   1.8   0.0   0.0"
      ]
     },
     "execution_count": 175,
     "metadata": {},
     "output_type": "execute_result"
    }
   ],
   "source": [
    "df = pd.read_csv(\"forestfires.csv\")\n",
    "df.head()"
   ]
  },
  {
   "cell_type": "code",
   "execution_count": 176,
   "metadata": {},
   "outputs": [
    {
     "name": "stdout",
     "output_type": "stream",
     "text": [
      "<class 'pandas.core.frame.DataFrame'>\n",
      "RangeIndex: 517 entries, 0 to 516\n",
      "Data columns (total 13 columns):\n",
      " #   Column  Non-Null Count  Dtype  \n",
      "---  ------  --------------  -----  \n",
      " 0   X       517 non-null    int64  \n",
      " 1   Y       517 non-null    int64  \n",
      " 2   month   517 non-null    object \n",
      " 3   day     517 non-null    object \n",
      " 4   FFMC    517 non-null    float64\n",
      " 5   DMC     517 non-null    float64\n",
      " 6   DC      517 non-null    float64\n",
      " 7   ISI     517 non-null    float64\n",
      " 8   temp    517 non-null    float64\n",
      " 9   RH      517 non-null    int64  \n",
      " 10  wind    517 non-null    float64\n",
      " 11  rain    517 non-null    float64\n",
      " 12  area    517 non-null    float64\n",
      "dtypes: float64(8), int64(3), object(2)\n",
      "memory usage: 52.6+ KB\n"
     ]
    }
   ],
   "source": [
    "df.info()"
   ]
  },
  {
   "cell_type": "code",
   "execution_count": 177,
   "metadata": {},
   "outputs": [
    {
     "data": {
      "text/html": [
       "<div>\n",
       "<style scoped>\n",
       "    .dataframe tbody tr th:only-of-type {\n",
       "        vertical-align: middle;\n",
       "    }\n",
       "\n",
       "    .dataframe tbody tr th {\n",
       "        vertical-align: top;\n",
       "    }\n",
       "\n",
       "    .dataframe thead th {\n",
       "        text-align: right;\n",
       "    }\n",
       "</style>\n",
       "<table border=\"1\" class=\"dataframe\">\n",
       "  <thead>\n",
       "    <tr style=\"text-align: right;\">\n",
       "      <th></th>\n",
       "      <th>X</th>\n",
       "      <th>Y</th>\n",
       "      <th>FFMC</th>\n",
       "      <th>DMC</th>\n",
       "      <th>DC</th>\n",
       "      <th>ISI</th>\n",
       "      <th>temp</th>\n",
       "      <th>RH</th>\n",
       "      <th>wind</th>\n",
       "      <th>rain</th>\n",
       "      <th>area</th>\n",
       "    </tr>\n",
       "  </thead>\n",
       "  <tbody>\n",
       "    <tr>\n",
       "      <th>count</th>\n",
       "      <td>517.000000</td>\n",
       "      <td>517.000000</td>\n",
       "      <td>517.000000</td>\n",
       "      <td>517.000000</td>\n",
       "      <td>517.000000</td>\n",
       "      <td>517.000000</td>\n",
       "      <td>517.000000</td>\n",
       "      <td>517.000000</td>\n",
       "      <td>517.000000</td>\n",
       "      <td>517.000000</td>\n",
       "      <td>517.000000</td>\n",
       "    </tr>\n",
       "    <tr>\n",
       "      <th>mean</th>\n",
       "      <td>4.669246</td>\n",
       "      <td>4.299807</td>\n",
       "      <td>90.644681</td>\n",
       "      <td>110.872340</td>\n",
       "      <td>547.940039</td>\n",
       "      <td>9.021663</td>\n",
       "      <td>18.889168</td>\n",
       "      <td>44.288201</td>\n",
       "      <td>4.017602</td>\n",
       "      <td>0.021663</td>\n",
       "      <td>12.847292</td>\n",
       "    </tr>\n",
       "    <tr>\n",
       "      <th>std</th>\n",
       "      <td>2.313778</td>\n",
       "      <td>1.229900</td>\n",
       "      <td>5.520111</td>\n",
       "      <td>64.046482</td>\n",
       "      <td>248.066192</td>\n",
       "      <td>4.559477</td>\n",
       "      <td>5.806625</td>\n",
       "      <td>16.317469</td>\n",
       "      <td>1.791653</td>\n",
       "      <td>0.295959</td>\n",
       "      <td>63.655818</td>\n",
       "    </tr>\n",
       "    <tr>\n",
       "      <th>min</th>\n",
       "      <td>1.000000</td>\n",
       "      <td>2.000000</td>\n",
       "      <td>18.700000</td>\n",
       "      <td>1.100000</td>\n",
       "      <td>7.900000</td>\n",
       "      <td>0.000000</td>\n",
       "      <td>2.200000</td>\n",
       "      <td>15.000000</td>\n",
       "      <td>0.400000</td>\n",
       "      <td>0.000000</td>\n",
       "      <td>0.000000</td>\n",
       "    </tr>\n",
       "    <tr>\n",
       "      <th>25%</th>\n",
       "      <td>3.000000</td>\n",
       "      <td>4.000000</td>\n",
       "      <td>90.200000</td>\n",
       "      <td>68.600000</td>\n",
       "      <td>437.700000</td>\n",
       "      <td>6.500000</td>\n",
       "      <td>15.500000</td>\n",
       "      <td>33.000000</td>\n",
       "      <td>2.700000</td>\n",
       "      <td>0.000000</td>\n",
       "      <td>0.000000</td>\n",
       "    </tr>\n",
       "    <tr>\n",
       "      <th>50%</th>\n",
       "      <td>4.000000</td>\n",
       "      <td>4.000000</td>\n",
       "      <td>91.600000</td>\n",
       "      <td>108.300000</td>\n",
       "      <td>664.200000</td>\n",
       "      <td>8.400000</td>\n",
       "      <td>19.300000</td>\n",
       "      <td>42.000000</td>\n",
       "      <td>4.000000</td>\n",
       "      <td>0.000000</td>\n",
       "      <td>0.520000</td>\n",
       "    </tr>\n",
       "    <tr>\n",
       "      <th>75%</th>\n",
       "      <td>7.000000</td>\n",
       "      <td>5.000000</td>\n",
       "      <td>92.900000</td>\n",
       "      <td>142.400000</td>\n",
       "      <td>713.900000</td>\n",
       "      <td>10.800000</td>\n",
       "      <td>22.800000</td>\n",
       "      <td>53.000000</td>\n",
       "      <td>4.900000</td>\n",
       "      <td>0.000000</td>\n",
       "      <td>6.570000</td>\n",
       "    </tr>\n",
       "    <tr>\n",
       "      <th>max</th>\n",
       "      <td>9.000000</td>\n",
       "      <td>9.000000</td>\n",
       "      <td>96.200000</td>\n",
       "      <td>291.300000</td>\n",
       "      <td>860.600000</td>\n",
       "      <td>56.100000</td>\n",
       "      <td>33.300000</td>\n",
       "      <td>100.000000</td>\n",
       "      <td>9.400000</td>\n",
       "      <td>6.400000</td>\n",
       "      <td>1090.840000</td>\n",
       "    </tr>\n",
       "  </tbody>\n",
       "</table>\n",
       "</div>"
      ],
      "text/plain": [
       "                X           Y        FFMC         DMC          DC         ISI  \\\n",
       "count  517.000000  517.000000  517.000000  517.000000  517.000000  517.000000   \n",
       "mean     4.669246    4.299807   90.644681  110.872340  547.940039    9.021663   \n",
       "std      2.313778    1.229900    5.520111   64.046482  248.066192    4.559477   \n",
       "min      1.000000    2.000000   18.700000    1.100000    7.900000    0.000000   \n",
       "25%      3.000000    4.000000   90.200000   68.600000  437.700000    6.500000   \n",
       "50%      4.000000    4.000000   91.600000  108.300000  664.200000    8.400000   \n",
       "75%      7.000000    5.000000   92.900000  142.400000  713.900000   10.800000   \n",
       "max      9.000000    9.000000   96.200000  291.300000  860.600000   56.100000   \n",
       "\n",
       "             temp          RH        wind        rain         area  \n",
       "count  517.000000  517.000000  517.000000  517.000000   517.000000  \n",
       "mean    18.889168   44.288201    4.017602    0.021663    12.847292  \n",
       "std      5.806625   16.317469    1.791653    0.295959    63.655818  \n",
       "min      2.200000   15.000000    0.400000    0.000000     0.000000  \n",
       "25%     15.500000   33.000000    2.700000    0.000000     0.000000  \n",
       "50%     19.300000   42.000000    4.000000    0.000000     0.520000  \n",
       "75%     22.800000   53.000000    4.900000    0.000000     6.570000  \n",
       "max     33.300000  100.000000    9.400000    6.400000  1090.840000  "
      ]
     },
     "execution_count": 177,
     "metadata": {},
     "output_type": "execute_result"
    }
   ],
   "source": [
    "df.describe()"
   ]
  },
  {
   "cell_type": "code",
   "execution_count": 178,
   "metadata": {},
   "outputs": [],
   "source": [
    "numerical = [i for i in df.columns if df[i].dtype != \"O\"]\n",
    "categorical = [i for i in df.columns if df[i].dtype == \"O\"]"
   ]
  },
  {
   "cell_type": "code",
   "execution_count": 179,
   "metadata": {},
   "outputs": [
    {
     "data": {
      "text/plain": [
       "(['X', 'Y', 'FFMC', 'DMC', 'DC', 'ISI', 'temp', 'RH', 'wind', 'rain', 'area'],\n",
       " ['month', 'day'])"
      ]
     },
     "execution_count": 179,
     "metadata": {},
     "output_type": "execute_result"
    }
   ],
   "source": [
    "numerical, categorical"
   ]
  },
  {
   "cell_type": "code",
   "execution_count": 180,
   "metadata": {},
   "outputs": [
    {
     "data": {
      "text/plain": [
       "X        0\n",
       "Y        0\n",
       "month    0\n",
       "day      0\n",
       "FFMC     0\n",
       "DMC      0\n",
       "DC       0\n",
       "ISI      0\n",
       "temp     0\n",
       "RH       0\n",
       "wind     0\n",
       "rain     0\n",
       "area     0\n",
       "dtype: int64"
      ]
     },
     "execution_count": 180,
     "metadata": {},
     "output_type": "execute_result"
    }
   ],
   "source": [
    "df.isnull().sum()"
   ]
  },
  {
   "cell_type": "code",
   "execution_count": 181,
   "metadata": {},
   "outputs": [
    {
     "name": "stdout",
     "output_type": "stream",
     "text": [
      "4    91\n",
      "6    86\n",
      "2    73\n",
      "8    61\n",
      "7    60\n",
      "3    55\n",
      "1    48\n",
      "5    30\n",
      "9    13\n",
      "Name: X, dtype: int64\n",
      "4    203\n",
      "5    125\n",
      "6     74\n",
      "3     64\n",
      "2     44\n",
      "9      6\n",
      "8      1\n",
      "Name: Y, dtype: int64\n",
      "aug    184\n",
      "sep    172\n",
      "mar     54\n",
      "jul     32\n",
      "feb     20\n",
      "jun     17\n",
      "oct     15\n",
      "dec      9\n",
      "apr      9\n",
      "jan      2\n",
      "may      2\n",
      "nov      1\n",
      "Name: month, dtype: int64\n",
      "sun    95\n",
      "fri    85\n",
      "sat    84\n",
      "mon    74\n",
      "tue    64\n",
      "thu    61\n",
      "wed    54\n",
      "Name: day, dtype: int64\n",
      "91.6    28\n",
      "92.1    28\n",
      "91.0    22\n",
      "91.7    19\n",
      "93.7    16\n",
      "        ..\n",
      "50.4     1\n",
      "82.1     1\n",
      "86.3     1\n",
      "85.1     1\n",
      "87.1     1\n",
      "Name: FFMC, Length: 106, dtype: int64\n",
      "99.0     10\n",
      "129.5     9\n",
      "142.4     8\n",
      "231.1     8\n",
      "137.0     7\n",
      "         ..\n",
      "4.6       1\n",
      "24.9      1\n",
      "133.6     1\n",
      "96.3      1\n",
      "3.2       1\n",
      "Name: DMC, Length: 215, dtype: int64\n",
      "745.3    10\n",
      "692.6     9\n",
      "698.6     8\n",
      "601.4     8\n",
      "692.3     8\n",
      "         ..\n",
      "730.6     1\n",
      "431.6     1\n",
      "74.3      1\n",
      "313.4     1\n",
      "537.4     1\n",
      "Name: DC, Length: 219, dtype: int64\n",
      "9.6     23\n",
      "7.1     21\n",
      "6.3     20\n",
      "7.0     17\n",
      "8.4     17\n",
      "        ..\n",
      "7.3      1\n",
      "12.1     1\n",
      "14.6     1\n",
      "56.1     1\n",
      "22.7     1\n",
      "Name: ISI, Length: 119, dtype: int64\n",
      "17.4    8\n",
      "19.6    8\n",
      "15.4    7\n",
      "20.6    7\n",
      "23.4    6\n",
      "       ..\n",
      "29.6    1\n",
      "8.7     1\n",
      "25.7    1\n",
      "31.0    1\n",
      "4.8     1\n",
      "Name: temp, Length: 192, dtype: int64\n",
      "27     33\n",
      "39     24\n",
      "35     20\n",
      "43     17\n",
      "42     17\n",
      "       ..\n",
      "84      1\n",
      "80      1\n",
      "76      1\n",
      "69      1\n",
      "100     1\n",
      "Name: RH, Length: 75, dtype: int64\n",
      "2.2    53\n",
      "3.1    53\n",
      "4.0    51\n",
      "4.9    48\n",
      "2.7    44\n",
      "4.5    41\n",
      "5.4    41\n",
      "3.6    40\n",
      "1.8    31\n",
      "5.8    24\n",
      "6.3    19\n",
      "7.6    14\n",
      "1.3    14\n",
      "0.9    13\n",
      "6.7     8\n",
      "8.5     8\n",
      "8.0     5\n",
      "7.2     4\n",
      "9.4     4\n",
      "8.9     1\n",
      "0.4     1\n",
      "Name: wind, dtype: int64\n",
      "0.0    509\n",
      "0.8      2\n",
      "0.2      2\n",
      "0.4      1\n",
      "6.4      1\n",
      "1.4      1\n",
      "1.0      1\n",
      "Name: rain, dtype: int64\n",
      "0.00     247\n",
      "1.94       3\n",
      "3.71       2\n",
      "0.90       2\n",
      "1.95       2\n",
      "        ... \n",
      "1.26       1\n",
      "2.44       1\n",
      "2.03       1\n",
      "2.21       1\n",
      "24.24      1\n",
      "Name: area, Length: 251, dtype: int64\n"
     ]
    }
   ],
   "source": [
    "for i in df.columns:\n",
    "    print(df[i].value_counts())"
   ]
  },
  {
   "cell_type": "code",
   "execution_count": 182,
   "metadata": {},
   "outputs": [
    {
     "data": {
      "image/png": "[encoded data removed]",
      "text/plain": [
       "<Figure size 1080x720 with 11 Axes>"
      ]
     },
     "metadata": {
      "needs_background": "light"
     },
     "output_type": "display_data"
    }
   ],
   "source": [
    "plt.figure(figsize = (15, 10))\n",
    "\n",
    "for i in range(1, len(numerical)+1):\n",
    "    plt.subplot(4,4,i)\n",
    "    fig = df.boxplot(column = numerical[i-1])\n",
    "    # fig.set_title(\"Pregnancies\")"
   ]
  },
  {
   "cell_type": "code",
   "execution_count": 183,
   "metadata": {},
   "outputs": [],
   "source": [
    "numerical1 = numerical\n",
    "for i in range(1, len(numerical1)+1):\n",
    "    \n",
    "    iqr = df[numerical1[i-1]].quantile(0.75) - df[numerical1[i-1]].quantile(0.25)\n",
    "    min_val = df[numerical1[i-1]].quantile(0.25) - (iqr * 1.5)\n",
    "    max_val = df[numerical1[i-1]].quantile(0.75) + (iqr * 1.5)\n",
    "    df[numerical1[i-1]] = np.where(df[numerical1[i-1]] > max_val, max_val, df[numerical1[i-1]])\n",
    "    df[numerical1[i-1]] = np.where(df[numerical1[i-1]] < min_val, min_val, df[numerical1[i-1]])"
   ]
  },
  {
   "cell_type": "code",
   "execution_count": 184,
   "metadata": {},
   "outputs": [
    {
     "data": {
      "image/png": "[encoded data removed]",
      "text/plain": [
       "<Figure size 1080x720 with 11 Axes>"
      ]
     },
     "metadata": {
      "needs_background": "light"
     },
     "output_type": "display_data"
    }
   ],
   "source": [
    "plt.figure(figsize = (15, 10))\n",
    "\n",
    "for i in range(1, len(numerical)+1):\n",
    "    plt.subplot(4,4,i)\n",
    "    fig = df.boxplot(column = numerical[i-1])\n",
    "    # fig.set_title(\"Pregnancies\")"
   ]
  },
  {
   "cell_type": "code",
   "execution_count": 185,
   "metadata": {},
   "outputs": [
    {
     "data": {
      "image/png": "[encoded data removed]",
      "text/plain": [
       "<Figure size 1080x720 with 11 Axes>"
      ]
     },
     "metadata": {
      "needs_background": "light"
     },
     "output_type": "display_data"
    }
   ],
   "source": [
    "plt.figure(figsize = (15, 10))\n",
    "\n",
    "for i in range(1, len(numerical)+1):\n",
    "    plt.subplot(4,4,i)\n",
    "    fig = df[numerical[i-1]].hist(bins = 30)\n",
    "    fig.set_title(numerical[i-1])\n"
   ]
  },
  {
   "cell_type": "code",
   "execution_count": 187,
   "metadata": {},
   "outputs": [],
   "source": [
    "from sklearn.preprocessing import OrdinalEncoder\n",
    "encoder = OrdinalEncoder()\n",
    "values = df[[\"month\"]].values\n",
    "df[\"month\"] = encoder.fit_transform(values)"
   ]
  },
  {
   "cell_type": "code",
   "execution_count": 188,
   "metadata": {},
   "outputs": [],
   "source": [
    "x = df.drop(\"area\", axis = 1)\n",
    "y = df[\"area\"]"
   ]
  },
  {
   "cell_type": "code",
   "execution_count": 189,
   "metadata": {},
   "outputs": [],
   "source": [
    "from sklearn.model_selection import train_test_split\n",
    "xtrain, xtest, ytrain, ytest = train_test_split(x, y, random_state = 0)"
   ]
  },
  {
   "cell_type": "code",
   "execution_count": 190,
   "metadata": {},
   "outputs": [],
   "source": [
    "from category_encoders import OneHotEncoder as ohe"
   ]
  },
  {
   "cell_type": "code",
   "execution_count": 191,
   "metadata": {},
   "outputs": [],
   "source": [
    "encoder = ohe(cols = \"day\")\n",
    "xtrain = encoder.fit_transform(xtrain)\n",
    "xtest = encoder.fit_transform(xtest)"
   ]
  },
  {
   "cell_type": "code",
   "execution_count": 192,
   "metadata": {},
   "outputs": [
    {
     "name": "stdout",
     "output_type": "stream",
     "text": [
      "4.0    68\n",
      "6.0    68\n",
      "2.0    53\n",
      "7.0    44\n",
      "8.0    44\n",
      "1.0    41\n",
      "3.0    40\n",
      "5.0    20\n",
      "9.0     9\n",
      "Name: X, dtype: int64\n",
      "4.0    149\n",
      "5.0     97\n",
      "6.0     52\n",
      "3.0     48\n",
      "2.5     36\n",
      "6.5      5\n",
      "Name: Y, dtype: int64\n",
      "1.0     137\n",
      "11.0    123\n",
      "7.0      45\n",
      "5.0      27\n",
      "10.0     12\n",
      "6.0      12\n",
      "3.0      12\n",
      "2.0       8\n",
      "0.0       6\n",
      "8.0       2\n",
      "4.0       2\n",
      "9.0       1\n",
      "Name: month, dtype: int64\n",
      "0    336\n",
      "1     51\n",
      "Name: day_1, dtype: int64\n",
      "0    327\n",
      "1     60\n",
      "Name: day_2, dtype: int64\n",
      "0    337\n",
      "1     50\n",
      "Name: day_3, dtype: int64\n",
      "0    350\n",
      "1     37\n",
      "Name: day_4, dtype: int64\n",
      "0    321\n",
      "1     66\n",
      "Name: day_5, dtype: int64\n",
      "0    322\n",
      "1     65\n",
      "Name: day_6, dtype: int64\n",
      "0    329\n",
      "1     58\n",
      "Name: day_7, dtype: int64\n",
      "86.15    38\n",
      "92.10    23\n",
      "91.60    23\n",
      "91.00    18\n",
      "91.70    16\n",
      "         ..\n",
      "95.80     1\n",
      "91.30     1\n",
      "88.20     1\n",
      "92.70     1\n",
      "94.40     1\n",
      "Name: FFMC, Length: 75, dtype: int64\n",
      "253.1    11\n",
      "129.5     7\n",
      "137.0     7\n",
      "35.8      7\n",
      "231.1     7\n",
      "         ..\n",
      "41.9      1\n",
      "51.2      1\n",
      "75.6      1\n",
      "122.3     1\n",
      "70.8      1\n",
      "Name: DMC, Length: 186, dtype: int64\n",
      "715.1    7\n",
      "80.8     7\n",
      "692.6    7\n",
      "706.4    7\n",
      "764.0    6\n",
      "        ..\n",
      "795.3    1\n",
      "661.3    1\n",
      "730.2    1\n",
      "669.1    1\n",
      "565.5    1\n",
      "Name: DC, Length: 195, dtype: int64\n",
      "17.25    19\n",
      "7.10     16\n",
      "9.60     15\n",
      "8.40     14\n",
      "6.20     13\n",
      "         ..\n",
      "16.70     1\n",
      "9.40      1\n",
      "2.20      1\n",
      "14.40     1\n",
      "15.10     1\n",
      "Name: ISI, Length: 102, dtype: int64\n",
      "19.6    7\n",
      "20.8    6\n",
      "20.4    6\n",
      "23.3    5\n",
      "23.4    5\n",
      "       ..\n",
      "12.8    1\n",
      "8.2     1\n",
      "16.7    1\n",
      "32.6    1\n",
      "27.3    1\n",
      "Name: temp, Length: 174, dtype: int64\n",
      "27.0    23\n",
      "39.0    17\n",
      "35.0    16\n",
      "42.0    16\n",
      "34.0    13\n",
      "        ..\n",
      "76.0     1\n",
      "80.0     1\n",
      "65.0     1\n",
      "17.0     1\n",
      "82.0     1\n",
      "Name: RH, Length: 65, dtype: int64\n",
      "2.2    44\n",
      "4.9    37\n",
      "3.1    37\n",
      "4.0    36\n",
      "2.7    34\n",
      "4.5    32\n",
      "3.6    29\n",
      "5.4    27\n",
      "1.8    25\n",
      "6.3    16\n",
      "5.8    13\n",
      "7.6    12\n",
      "1.3    12\n",
      "0.9    12\n",
      "8.2    10\n",
      "6.7     6\n",
      "8.0     3\n",
      "7.2     2\n",
      "Name: wind, dtype: int64\n",
      "0.0    387\n",
      "Name: rain, dtype: int64\n"
     ]
    }
   ],
   "source": [
    "for i in xtrain.columns:\n",
    "    print(xtrain[i].value_counts())"
   ]
  },
  {
   "cell_type": "code",
   "execution_count": 193,
   "metadata": {},
   "outputs": [],
   "source": [
    "for i in xtrain:\n",
    "    if i not in xtest:\n",
    "        print(i)"
   ]
  },
  {
   "cell_type": "code",
   "execution_count": 194,
   "metadata": {},
   "outputs": [],
   "source": [
    "from sklearn.preprocessing import StandardScaler"
   ]
  },
  {
   "cell_type": "code",
   "execution_count": 195,
   "metadata": {},
   "outputs": [],
   "source": [
    "preprocess = StandardScaler()\n",
    "xtrain = preprocess.fit_transform(xtrain)\n",
    "xtest = preprocess.fit_transform(xtest)"
   ]
  },
  {
   "cell_type": "code",
   "execution_count": 196,
   "metadata": {},
   "outputs": [],
   "source": [
    "from sklearn.ensemble import RandomForestRegressor"
   ]
  },
  {
   "cell_type": "code",
   "execution_count": 197,
   "metadata": {},
   "outputs": [],
   "source": [
    "model = RandomForestRegressor(random_state=1234)"
   ]
  },
  {
   "cell_type": "code",
   "execution_count": 198,
   "metadata": {},
   "outputs": [
    {
     "data": {
      "text/plain": [
       "RandomForestRegressor(bootstrap=True, ccp_alpha=0.0, criterion='mse',\n",
       "                      max_depth=None, max_features='auto', max_leaf_nodes=None,\n",
       "                      max_samples=None, min_impurity_decrease=0.0,\n",
       "                      min_impurity_split=None, min_samples_leaf=1,\n",
       "                      min_samples_split=2, min_weight_fraction_leaf=0.0,\n",
       "                      n_estimators=100, n_jobs=None, oob_score=False,\n",
       "                      random_state=1234, verbose=0, warm_start=False)"
      ]
     },
     "execution_count": 198,
     "metadata": {},
     "output_type": "execute_result"
    }
   ],
   "source": [
    "model.fit(xtrain, ytrain)"
   ]
  },
  {
   "cell_type": "code",
   "execution_count": 199,
   "metadata": {},
   "outputs": [],
   "source": [
    "y_pred = model.predict(xtest)"
   ]
  },
  {
   "cell_type": "code",
   "execution_count": 200,
   "metadata": {},
   "outputs": [],
   "source": [
    "from sklearn.metrics import mean_squared_error\n",
    "mse = mean_squared_error(ytest, y_pred)"
   ]
  },
  {
   "cell_type": "code",
   "execution_count": 201,
   "metadata": {},
   "outputs": [
    {
     "data": {
      "text/plain": [
       "6.136963926110967"
      ]
     },
     "execution_count": 201,
     "metadata": {},
     "output_type": "execute_result"
    }
   ],
   "source": [
    "mse ** 0.5"
   ]
  },
  {
   "cell_type": "code",
   "execution_count": 205,
   "metadata": {},
   "outputs": [
    {
     "data": {
      "text/plain": [
       "0.022856624317459717"
      ]
     },
     "execution_count": 205,
     "metadata": {},
     "output_type": "execute_result"
    }
   ],
   "source": [
    "from sklearn.metrics import r2_score as r2\n",
    "\n",
    "r2(ytest, y_pred)"
   ]
  },
  {
   "cell_type": "code",
   "execution_count": 210,
   "metadata": {},
   "outputs": [
    {
     "data": {
      "text/plain": [
       "0.022856624317459717"
      ]
     },
     "execution_count": 210,
     "metadata": {},
     "output_type": "execute_result"
    }
   ],
   "source": [
    "model.score(xtest, ytest)"
   ]
  },
  {
   "cell_type": "code",
   "execution_count": 209,
   "metadata": {},
   "outputs": [
    {
     "data": {
      "text/plain": [
       "0.8400494667720124"
      ]
     },
     "execution_count": 209,
     "metadata": {},
     "output_type": "execute_result"
    }
   ],
   "source": [
    "model.score(xtrain, ytrain)"
   ]
  },
  {
   "cell_type": "code",
   "execution_count": null,
   "metadata": {},
   "outputs": [],
   "source": []
  }
 ],
 "metadata": {
  "kernelspec": {
   "display_name": "Python 3",
   "language": "python",
   "name": "python3"
  },
  "language_info": {
   "codemirror_mode": {
    "name": "ipython",
    "version": 3
   },
   "file_extension": ".py",
   "mimetype": "text/x-python",
   "name": "python",
   "nbconvert_exporter": "python",
   "pygments_lexer": "ipython3",
   "version": "3.7.6"
  }
 },
 "nbformat": 4,
 "nbformat_minor": 4
}
