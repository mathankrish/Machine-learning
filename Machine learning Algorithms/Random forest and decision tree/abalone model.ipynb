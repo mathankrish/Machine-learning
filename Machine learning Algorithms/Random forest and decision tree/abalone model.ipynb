{
 "cells": [
  {
   "cell_type": "code",
   "execution_count": 1,
   "metadata": {},
   "outputs": [],
   "source": [
    "import numpy as np \n",
    "import pandas as pd\n",
    "import matplotlib.pyplot as plt\n",
    "import seaborn as sns\n",
    "from scipy import stats\n",
    "%matplotlib inline"
   ]
  },
  {
   "cell_type": "code",
   "execution_count": 2,
   "metadata": {},
   "outputs": [],
   "source": [
    "columns = [\"sex\", \"length\", \"diameter\", \"height\", \"whole_wght\", \"shuckled_wght\", \"visera_wght\", \"shell_wght\", \"age\"]\n",
    "df = pd.read_csv(\"abalone.csv\", sep=\",\",names = columns)\n",
    "df.head()\n",
    "df.drop(index = [0], axis = 0, inplace = True)"
   ]
  },
  {
   "cell_type": "code",
   "execution_count": 3,
   "metadata": {},
   "outputs": [
    {
     "data": {
      "text/html": [
       "<div>\n",
       "<style scoped>\n",
       "    .dataframe tbody tr th:only-of-type {\n",
       "        vertical-align: middle;\n",
       "    }\n",
       "\n",
       "    .dataframe tbody tr th {\n",
       "        vertical-align: top;\n",
       "    }\n",
       "\n",
       "    .dataframe thead th {\n",
       "        text-align: right;\n",
       "    }\n",
       "</style>\n",
       "<table border=\"1\" class=\"dataframe\">\n",
       "  <thead>\n",
       "    <tr style=\"text-align: right;\">\n",
       "      <th></th>\n",
       "      <th>sex</th>\n",
       "      <th>length</th>\n",
       "      <th>diameter</th>\n",
       "      <th>height</th>\n",
       "      <th>whole_wght</th>\n",
       "      <th>shuckled_wght</th>\n",
       "      <th>visera_wght</th>\n",
       "      <th>shell_wght</th>\n",
       "      <th>age</th>\n",
       "    </tr>\n",
       "  </thead>\n",
       "  <tbody>\n",
       "    <tr>\n",
       "      <th>0</th>\n",
       "      <td>M</td>\n",
       "      <td>0.455</td>\n",
       "      <td>0.365</td>\n",
       "      <td>0.095</td>\n",
       "      <td>0.514</td>\n",
       "      <td>0.2245</td>\n",
       "      <td>0.101</td>\n",
       "      <td>0.15</td>\n",
       "      <td>15</td>\n",
       "    </tr>\n",
       "    <tr>\n",
       "      <th>1</th>\n",
       "      <td>M</td>\n",
       "      <td>0.35</td>\n",
       "      <td>0.265</td>\n",
       "      <td>0.09</td>\n",
       "      <td>0.2255</td>\n",
       "      <td>0.0995</td>\n",
       "      <td>0.0485</td>\n",
       "      <td>0.07</td>\n",
       "      <td>7</td>\n",
       "    </tr>\n",
       "    <tr>\n",
       "      <th>2</th>\n",
       "      <td>F</td>\n",
       "      <td>0.53</td>\n",
       "      <td>0.42</td>\n",
       "      <td>0.135</td>\n",
       "      <td>0.677</td>\n",
       "      <td>0.2565</td>\n",
       "      <td>0.1415</td>\n",
       "      <td>0.21</td>\n",
       "      <td>9</td>\n",
       "    </tr>\n",
       "    <tr>\n",
       "      <th>3</th>\n",
       "      <td>M</td>\n",
       "      <td>0.44</td>\n",
       "      <td>0.365</td>\n",
       "      <td>0.125</td>\n",
       "      <td>0.516</td>\n",
       "      <td>0.2155</td>\n",
       "      <td>0.114</td>\n",
       "      <td>0.155</td>\n",
       "      <td>10</td>\n",
       "    </tr>\n",
       "    <tr>\n",
       "      <th>4</th>\n",
       "      <td>I</td>\n",
       "      <td>0.33</td>\n",
       "      <td>0.255</td>\n",
       "      <td>0.08</td>\n",
       "      <td>0.205</td>\n",
       "      <td>0.0895</td>\n",
       "      <td>0.0395</td>\n",
       "      <td>0.055</td>\n",
       "      <td>7</td>\n",
       "    </tr>\n",
       "  </tbody>\n",
       "</table>\n",
       "</div>"
      ],
      "text/plain": [
       "  sex length diameter height whole_wght shuckled_wght visera_wght shell_wght  \\\n",
       "0   M  0.455    0.365  0.095      0.514        0.2245       0.101       0.15   \n",
       "1   M   0.35    0.265   0.09     0.2255        0.0995      0.0485       0.07   \n",
       "2   F   0.53     0.42  0.135      0.677        0.2565      0.1415       0.21   \n",
       "3   M   0.44    0.365  0.125      0.516        0.2155       0.114      0.155   \n",
       "4   I   0.33    0.255   0.08      0.205        0.0895      0.0395      0.055   \n",
       "\n",
       "  age  \n",
       "0  15  \n",
       "1   7  \n",
       "2   9  \n",
       "3  10  \n",
       "4   7  "
      ]
     },
     "execution_count": 3,
     "metadata": {},
     "output_type": "execute_result"
    }
   ],
   "source": [
    "df.reset_index(inplace = True, drop = True)\n",
    "df.head()"
   ]
  },
  {
   "cell_type": "code",
   "execution_count": 4,
   "metadata": {},
   "outputs": [],
   "source": [
    "# df = df[[\"sex\", \"length\", \"height\", \"whole_wght\", \"age\"]]\n",
    "\n",
    "df['sex'] = df[\"sex\"].map({\"M\":2, \"F\": 1, \"I\": 0})"
   ]
  },
  {
   "cell_type": "code",
   "execution_count": 5,
   "metadata": {},
   "outputs": [
    {
     "data": {
      "text/html": [
       "<div>\n",
       "<style scoped>\n",
       "    .dataframe tbody tr th:only-of-type {\n",
       "        vertical-align: middle;\n",
       "    }\n",
       "\n",
       "    .dataframe tbody tr th {\n",
       "        vertical-align: top;\n",
       "    }\n",
       "\n",
       "    .dataframe thead th {\n",
       "        text-align: right;\n",
       "    }\n",
       "</style>\n",
       "<table border=\"1\" class=\"dataframe\">\n",
       "  <thead>\n",
       "    <tr style=\"text-align: right;\">\n",
       "      <th></th>\n",
       "      <th>sex</th>\n",
       "      <th>length</th>\n",
       "      <th>diameter</th>\n",
       "      <th>height</th>\n",
       "      <th>whole_wght</th>\n",
       "      <th>shuckled_wght</th>\n",
       "      <th>visera_wght</th>\n",
       "      <th>shell_wght</th>\n",
       "      <th>age</th>\n",
       "    </tr>\n",
       "  </thead>\n",
       "  <tbody>\n",
       "    <tr>\n",
       "      <th>0</th>\n",
       "      <td>2</td>\n",
       "      <td>0.455</td>\n",
       "      <td>0.365</td>\n",
       "      <td>0.095</td>\n",
       "      <td>0.514</td>\n",
       "      <td>0.2245</td>\n",
       "      <td>0.101</td>\n",
       "      <td>0.15</td>\n",
       "      <td>15</td>\n",
       "    </tr>\n",
       "    <tr>\n",
       "      <th>1</th>\n",
       "      <td>2</td>\n",
       "      <td>0.35</td>\n",
       "      <td>0.265</td>\n",
       "      <td>0.09</td>\n",
       "      <td>0.2255</td>\n",
       "      <td>0.0995</td>\n",
       "      <td>0.0485</td>\n",
       "      <td>0.07</td>\n",
       "      <td>7</td>\n",
       "    </tr>\n",
       "    <tr>\n",
       "      <th>2</th>\n",
       "      <td>1</td>\n",
       "      <td>0.53</td>\n",
       "      <td>0.42</td>\n",
       "      <td>0.135</td>\n",
       "      <td>0.677</td>\n",
       "      <td>0.2565</td>\n",
       "      <td>0.1415</td>\n",
       "      <td>0.21</td>\n",
       "      <td>9</td>\n",
       "    </tr>\n",
       "    <tr>\n",
       "      <th>3</th>\n",
       "      <td>2</td>\n",
       "      <td>0.44</td>\n",
       "      <td>0.365</td>\n",
       "      <td>0.125</td>\n",
       "      <td>0.516</td>\n",
       "      <td>0.2155</td>\n",
       "      <td>0.114</td>\n",
       "      <td>0.155</td>\n",
       "      <td>10</td>\n",
       "    </tr>\n",
       "    <tr>\n",
       "      <th>4</th>\n",
       "      <td>0</td>\n",
       "      <td>0.33</td>\n",
       "      <td>0.255</td>\n",
       "      <td>0.08</td>\n",
       "      <td>0.205</td>\n",
       "      <td>0.0895</td>\n",
       "      <td>0.0395</td>\n",
       "      <td>0.055</td>\n",
       "      <td>7</td>\n",
       "    </tr>\n",
       "  </tbody>\n",
       "</table>\n",
       "</div>"
      ],
      "text/plain": [
       "   sex length diameter height whole_wght shuckled_wght visera_wght shell_wght  \\\n",
       "0    2  0.455    0.365  0.095      0.514        0.2245       0.101       0.15   \n",
       "1    2   0.35    0.265   0.09     0.2255        0.0995      0.0485       0.07   \n",
       "2    1   0.53     0.42  0.135      0.677        0.2565      0.1415       0.21   \n",
       "3    2   0.44    0.365  0.125      0.516        0.2155       0.114      0.155   \n",
       "4    0   0.33    0.255   0.08      0.205        0.0895      0.0395      0.055   \n",
       "\n",
       "  age  \n",
       "0  15  \n",
       "1   7  \n",
       "2   9  \n",
       "3  10  \n",
       "4   7  "
      ]
     },
     "execution_count": 5,
     "metadata": {},
     "output_type": "execute_result"
    }
   ],
   "source": [
    "# df[\"sex\"] = df[\"sex\"].astype(\"float\")\n",
    "# df[df['height'] == 0.0]  #need to drop these rows.\n",
    "df.head()"
   ]
  },
  {
   "cell_type": "code",
   "execution_count": 6,
   "metadata": {},
   "outputs": [],
   "source": [
    "# df.drop(index=[1257,3996], inplace = True)\n",
    "# df.shape"
   ]
  },
  {
   "cell_type": "code",
   "execution_count": 7,
   "metadata": {},
   "outputs": [],
   "source": [
    "df[\"age\"] = df[\"age\"].astype(\"float\")\n",
    "df[\"age\"] = df[\"age\"] + 1.5 "
   ]
  },
  {
   "cell_type": "code",
   "execution_count": 8,
   "metadata": {},
   "outputs": [],
   "source": [
    "df = df.astype(\"float\")"
   ]
  },
  {
   "cell_type": "code",
   "execution_count": 9,
   "metadata": {},
   "outputs": [],
   "source": [
    "numerical = [i for i in df.columns if df[i].dtype != \"O\"]"
   ]
  },
  {
   "cell_type": "code",
   "execution_count": 10,
   "metadata": {},
   "outputs": [
    {
     "data": {
      "text/plain": [
       "['sex',\n",
       " 'length',\n",
       " 'diameter',\n",
       " 'height',\n",
       " 'whole_wght',\n",
       " 'shuckled_wght',\n",
       " 'visera_wght',\n",
       " 'shell_wght',\n",
       " 'age']"
      ]
     },
     "execution_count": 10,
     "metadata": {},
     "output_type": "execute_result"
    }
   ],
   "source": [
    "numerical"
   ]
  },
  {
   "cell_type": "code",
   "execution_count": 11,
   "metadata": {},
   "outputs": [
    {
     "name": "stdout",
     "output_type": "stream",
     "text": [
      "<class 'pandas.core.frame.DataFrame'>\n",
      "RangeIndex: 4177 entries, 0 to 4176\n",
      "Data columns (total 9 columns):\n",
      " #   Column         Non-Null Count  Dtype  \n",
      "---  ------         --------------  -----  \n",
      " 0   sex            4177 non-null   float64\n",
      " 1   length         4177 non-null   float64\n",
      " 2   diameter       4177 non-null   float64\n",
      " 3   height         4177 non-null   float64\n",
      " 4   whole_wght     4177 non-null   float64\n",
      " 5   shuckled_wght  4177 non-null   float64\n",
      " 6   visera_wght    4177 non-null   float64\n",
      " 7   shell_wght     4177 non-null   float64\n",
      " 8   age            4177 non-null   float64\n",
      "dtypes: float64(9)\n",
      "memory usage: 293.8 KB\n"
     ]
    }
   ],
   "source": [
    "df.info()"
   ]
  },
  {
   "cell_type": "code",
   "execution_count": 12,
   "metadata": {},
   "outputs": [
    {
     "data": {
      "text/html": [
       "<div>\n",
       "<style scoped>\n",
       "    .dataframe tbody tr th:only-of-type {\n",
       "        vertical-align: middle;\n",
       "    }\n",
       "\n",
       "    .dataframe tbody tr th {\n",
       "        vertical-align: top;\n",
       "    }\n",
       "\n",
       "    .dataframe thead th {\n",
       "        text-align: right;\n",
       "    }\n",
       "</style>\n",
       "<table border=\"1\" class=\"dataframe\">\n",
       "  <thead>\n",
       "    <tr style=\"text-align: right;\">\n",
       "      <th></th>\n",
       "      <th>sex</th>\n",
       "      <th>length</th>\n",
       "      <th>diameter</th>\n",
       "      <th>height</th>\n",
       "      <th>whole_wght</th>\n",
       "      <th>shuckled_wght</th>\n",
       "      <th>visera_wght</th>\n",
       "      <th>shell_wght</th>\n",
       "      <th>age</th>\n",
       "    </tr>\n",
       "  </thead>\n",
       "  <tbody>\n",
       "    <tr>\n",
       "      <th>count</th>\n",
       "      <td>4177.000000</td>\n",
       "      <td>4177.000000</td>\n",
       "      <td>4177.000000</td>\n",
       "      <td>4177.000000</td>\n",
       "      <td>4177.000000</td>\n",
       "      <td>4177.000000</td>\n",
       "      <td>4177.000000</td>\n",
       "      <td>4177.000000</td>\n",
       "      <td>4177.000000</td>\n",
       "    </tr>\n",
       "    <tr>\n",
       "      <th>mean</th>\n",
       "      <td>1.044530</td>\n",
       "      <td>0.523992</td>\n",
       "      <td>0.407881</td>\n",
       "      <td>0.139516</td>\n",
       "      <td>0.828742</td>\n",
       "      <td>0.359367</td>\n",
       "      <td>0.180594</td>\n",
       "      <td>0.238831</td>\n",
       "      <td>11.433684</td>\n",
       "    </tr>\n",
       "    <tr>\n",
       "      <th>std</th>\n",
       "      <td>0.827815</td>\n",
       "      <td>0.120093</td>\n",
       "      <td>0.099240</td>\n",
       "      <td>0.041827</td>\n",
       "      <td>0.490389</td>\n",
       "      <td>0.221963</td>\n",
       "      <td>0.109614</td>\n",
       "      <td>0.139203</td>\n",
       "      <td>3.224169</td>\n",
       "    </tr>\n",
       "    <tr>\n",
       "      <th>min</th>\n",
       "      <td>0.000000</td>\n",
       "      <td>0.075000</td>\n",
       "      <td>0.055000</td>\n",
       "      <td>0.000000</td>\n",
       "      <td>0.002000</td>\n",
       "      <td>0.001000</td>\n",
       "      <td>0.000500</td>\n",
       "      <td>0.001500</td>\n",
       "      <td>2.500000</td>\n",
       "    </tr>\n",
       "    <tr>\n",
       "      <th>25%</th>\n",
       "      <td>0.000000</td>\n",
       "      <td>0.450000</td>\n",
       "      <td>0.350000</td>\n",
       "      <td>0.115000</td>\n",
       "      <td>0.441500</td>\n",
       "      <td>0.186000</td>\n",
       "      <td>0.093500</td>\n",
       "      <td>0.130000</td>\n",
       "      <td>9.500000</td>\n",
       "    </tr>\n",
       "    <tr>\n",
       "      <th>50%</th>\n",
       "      <td>1.000000</td>\n",
       "      <td>0.545000</td>\n",
       "      <td>0.425000</td>\n",
       "      <td>0.140000</td>\n",
       "      <td>0.799500</td>\n",
       "      <td>0.336000</td>\n",
       "      <td>0.171000</td>\n",
       "      <td>0.234000</td>\n",
       "      <td>10.500000</td>\n",
       "    </tr>\n",
       "    <tr>\n",
       "      <th>75%</th>\n",
       "      <td>2.000000</td>\n",
       "      <td>0.615000</td>\n",
       "      <td>0.480000</td>\n",
       "      <td>0.165000</td>\n",
       "      <td>1.153000</td>\n",
       "      <td>0.502000</td>\n",
       "      <td>0.253000</td>\n",
       "      <td>0.329000</td>\n",
       "      <td>12.500000</td>\n",
       "    </tr>\n",
       "    <tr>\n",
       "      <th>max</th>\n",
       "      <td>2.000000</td>\n",
       "      <td>0.815000</td>\n",
       "      <td>0.650000</td>\n",
       "      <td>1.130000</td>\n",
       "      <td>2.825500</td>\n",
       "      <td>1.488000</td>\n",
       "      <td>0.760000</td>\n",
       "      <td>1.005000</td>\n",
       "      <td>30.500000</td>\n",
       "    </tr>\n",
       "  </tbody>\n",
       "</table>\n",
       "</div>"
      ],
      "text/plain": [
       "               sex       length     diameter       height   whole_wght  \\\n",
       "count  4177.000000  4177.000000  4177.000000  4177.000000  4177.000000   \n",
       "mean      1.044530     0.523992     0.407881     0.139516     0.828742   \n",
       "std       0.827815     0.120093     0.099240     0.041827     0.490389   \n",
       "min       0.000000     0.075000     0.055000     0.000000     0.002000   \n",
       "25%       0.000000     0.450000     0.350000     0.115000     0.441500   \n",
       "50%       1.000000     0.545000     0.425000     0.140000     0.799500   \n",
       "75%       2.000000     0.615000     0.480000     0.165000     1.153000   \n",
       "max       2.000000     0.815000     0.650000     1.130000     2.825500   \n",
       "\n",
       "       shuckled_wght  visera_wght   shell_wght          age  \n",
       "count    4177.000000  4177.000000  4177.000000  4177.000000  \n",
       "mean        0.359367     0.180594     0.238831    11.433684  \n",
       "std         0.221963     0.109614     0.139203     3.224169  \n",
       "min         0.001000     0.000500     0.001500     2.500000  \n",
       "25%         0.186000     0.093500     0.130000     9.500000  \n",
       "50%         0.336000     0.171000     0.234000    10.500000  \n",
       "75%         0.502000     0.253000     0.329000    12.500000  \n",
       "max         1.488000     0.760000     1.005000    30.500000  "
      ]
     },
     "execution_count": 12,
     "metadata": {},
     "output_type": "execute_result"
    }
   ],
   "source": [
    "df.describe()"
   ]
  },
  {
   "cell_type": "code",
   "execution_count": 13,
   "metadata": {},
   "outputs": [
    {
     "data": {
      "text/plain": [
       "sex              0\n",
       "length           0\n",
       "diameter         0\n",
       "height           0\n",
       "whole_wght       0\n",
       "shuckled_wght    0\n",
       "visera_wght      0\n",
       "shell_wght       0\n",
       "age              0\n",
       "dtype: int64"
      ]
     },
     "execution_count": 13,
     "metadata": {},
     "output_type": "execute_result"
    }
   ],
   "source": [
    "df[numerical].isnull().sum()"
   ]
  },
  {
   "cell_type": "code",
   "execution_count": 14,
   "metadata": {},
   "outputs": [
    {
     "data": {
      "image/png": "[encoded data removed]",
      "text/plain": [
       "<Figure size 1080x720 with 9 Axes>"
      ]
     },
     "metadata": {
      "needs_background": "light"
     },
     "output_type": "display_data"
    }
   ],
   "source": [
    "plt.figure(figsize = (15, 10))\n",
    "\n",
    "for i in range(1, len(numerical)+1):\n",
    "    plt.subplot(3,3,i)\n",
    "    fig = df.boxplot(column = numerical[i-1])\n",
    "    # fig.set_title(\"Pregnancies\")\n"
   ]
  },
  {
   "cell_type": "code",
   "execution_count": 15,
   "metadata": {},
   "outputs": [],
   "source": [
    "for i in range(1, len(numerical)+1):\n",
    "    \n",
    "    iqr = df[numerical[i-1]].quantile(0.75) - df[numerical[i-1]].quantile(0.25)\n",
    "    min_val = df[numerical[i-1]].quantile(0.25) - (iqr * 1.5)\n",
    "    max_val = df[numerical[i-1]].quantile(0.75) + (iqr * 1.5)\n",
    "    df[numerical[i-1]] = np.where(df[numerical[i-1]] > max_val, max_val, df[numerical[i-1]])\n",
    "    df[numerical[i-1]] = np.where(df[numerical[i-1]] < min_val, min_val, df[numerical[i-1]])\n",
    "\n"
   ]
  },
  {
   "cell_type": "code",
   "execution_count": 16,
   "metadata": {},
   "outputs": [
    {
     "data": {
      "image/png": "[encoded data removed]",
      "text/plain": [
       "<Figure size 1080x720 with 9 Axes>"
      ]
     },
     "metadata": {
      "needs_background": "light"
     },
     "output_type": "display_data"
    }
   ],
   "source": [
    "plt.figure(figsize = (15, 10))\n",
    "\n",
    "for i in range(1, len(numerical)+1):\n",
    "    plt.subplot(3,3,i)\n",
    "    fig = df[numerical[i-1]].hist(bins = 30)\n",
    "    fig.set_title(numerical[i-1])\n"
   ]
  },
  {
   "cell_type": "code",
   "execution_count": 17,
   "metadata": {},
   "outputs": [],
   "source": [
    "# df[\"age\"] = df[\"age\"].astype(\"int\")"
   ]
  },
  {
   "cell_type": "code",
   "execution_count": 18,
   "metadata": {},
   "outputs": [],
   "source": [
    "x = df.drop(\"age\", axis = 1)\n",
    "y = df[\"age\"]"
   ]
  },
  {
   "cell_type": "code",
   "execution_count": 19,
   "metadata": {},
   "outputs": [],
   "source": [
    "from sklearn.model_selection import train_test_split\n",
    "\n",
    "xtrain, xtest, ytrain, ytest = train_test_split(x, y, random_state = 0)"
   ]
  },
  {
   "cell_type": "code",
   "execution_count": 20,
   "metadata": {},
   "outputs": [
    {
     "name": "stderr",
     "output_type": "stream",
     "text": [
      "C:\\Users\\Mathan\\anaconda3\\lib\\site-packages\\ipykernel_launcher.py:6: SettingWithCopyWarning: \n",
      "A value is trying to be set on a copy of a slice from a DataFrame.\n",
      "Try using .loc[row_indexer,col_indexer] = value instead\n",
      "\n",
      "See the caveats in the documentation: https://pandas.pydata.org/pandas-docs/stable/user_guide/indexing.html#returning-a-view-versus-a-copy\n",
      "  \n",
      "C:\\Users\\Mathan\\anaconda3\\lib\\site-packages\\ipykernel_launcher.py:7: SettingWithCopyWarning: \n",
      "A value is trying to be set on a copy of a slice from a DataFrame.\n",
      "Try using .loc[row_indexer,col_indexer] = value instead\n",
      "\n",
      "See the caveats in the documentation: https://pandas.pydata.org/pandas-docs/stable/user_guide/indexing.html#returning-a-view-versus-a-copy\n",
      "  import sys\n"
     ]
    },
    {
     "data": {
      "image/png": "[encoded data removed]",
      "text/plain": [
       "<Figure size 1080x720 with 7 Axes>"
      ]
     },
     "metadata": {
      "needs_background": "light"
     },
     "output_type": "display_data"
    }
   ],
   "source": [
    "skew = [\"length\", \"diameter\", \"height\", \"whole_wght\", \"shuckled_wght\", \"visera_wght\", \"shell_wght\"]\n",
    "plt.figure(figsize = (15, 10))\n",
    "\n",
    "for i in range(1, len(skew)+1):\n",
    "    plt.subplot(3,3,i)\n",
    "    xtrain[skew[i-1]] = stats.boxcox(xtrain[skew[i-1]])[0]\n",
    "    xtest[skew[i-1]] = stats.boxcox(xtest[skew[i-1]])[0]\n",
    "    fig = xtrain[skew[i-1]].hist(bins = 30)\n",
    "    fig.set_title(numerical[i-1])\n"
   ]
  },
  {
   "cell_type": "code",
   "execution_count": 21,
   "metadata": {},
   "outputs": [],
   "source": [
    "# from sklearn.preprocessing import StandardScaler\n",
    "# encoder = StandardScaler()\n",
    "# xtrain = encoder.fit_transform(xtrain)\n",
    "# xtest = encoder.fit_transform(xtest)"
   ]
  },
  {
   "cell_type": "code",
   "execution_count": 22,
   "metadata": {},
   "outputs": [
    {
     "data": {
      "text/html": [
       "<div>\n",
       "<style scoped>\n",
       "    .dataframe tbody tr th:only-of-type {\n",
       "        vertical-align: middle;\n",
       "    }\n",
       "\n",
       "    .dataframe tbody tr th {\n",
       "        vertical-align: top;\n",
       "    }\n",
       "\n",
       "    .dataframe thead th {\n",
       "        text-align: right;\n",
       "    }\n",
       "</style>\n",
       "<table border=\"1\" class=\"dataframe\">\n",
       "  <thead>\n",
       "    <tr style=\"text-align: right;\">\n",
       "      <th></th>\n",
       "      <th>sex</th>\n",
       "      <th>length</th>\n",
       "      <th>diameter</th>\n",
       "      <th>height</th>\n",
       "      <th>whole_wght</th>\n",
       "      <th>shuckled_wght</th>\n",
       "      <th>visera_wght</th>\n",
       "      <th>shell_wght</th>\n",
       "    </tr>\n",
       "  </thead>\n",
       "  <tbody>\n",
       "    <tr>\n",
       "      <th>940</th>\n",
       "      <td>0.0</td>\n",
       "      <td>-0.408603</td>\n",
       "      <td>-0.474863</td>\n",
       "      <td>-0.768359</td>\n",
       "      <td>-0.637336</td>\n",
       "      <td>-1.067940</td>\n",
       "      <td>-1.306932</td>\n",
       "      <td>-1.175267</td>\n",
       "    </tr>\n",
       "    <tr>\n",
       "      <th>2688</th>\n",
       "      <td>2.0</td>\n",
       "      <td>-0.308880</td>\n",
       "      <td>-0.416335</td>\n",
       "      <td>-0.739653</td>\n",
       "      <td>0.026854</td>\n",
       "      <td>-0.524879</td>\n",
       "      <td>-1.083873</td>\n",
       "      <td>-1.071536</td>\n",
       "    </tr>\n",
       "    <tr>\n",
       "      <th>1948</th>\n",
       "      <td>2.0</td>\n",
       "      <td>-0.305536</td>\n",
       "      <td>-0.387952</td>\n",
       "      <td>-0.729625</td>\n",
       "      <td>0.219349</td>\n",
       "      <td>-0.566810</td>\n",
       "      <td>-0.879160</td>\n",
       "      <td>-0.770149</td>\n",
       "    </tr>\n",
       "    <tr>\n",
       "      <th>713</th>\n",
       "      <td>2.0</td>\n",
       "      <td>-0.456326</td>\n",
       "      <td>-0.506023</td>\n",
       "      <td>-0.780332</td>\n",
       "      <td>-1.034741</td>\n",
       "      <td>-1.384559</td>\n",
       "      <td>-1.438095</td>\n",
       "      <td>-1.317540</td>\n",
       "    </tr>\n",
       "    <tr>\n",
       "      <th>3743</th>\n",
       "      <td>1.0</td>\n",
       "      <td>-0.256291</td>\n",
       "      <td>-0.363605</td>\n",
       "      <td>-0.708980</td>\n",
       "      <td>0.665746</td>\n",
       "      <td>-0.311009</td>\n",
       "      <td>-0.684425</td>\n",
       "      <td>-0.544480</td>\n",
       "    </tr>\n",
       "  </tbody>\n",
       "</table>\n",
       "</div>"
      ],
      "text/plain": [
       "      sex    length  diameter    height  whole_wght  shuckled_wght  \\\n",
       "940   0.0 -0.408603 -0.474863 -0.768359   -0.637336      -1.067940   \n",
       "2688  2.0 -0.308880 -0.416335 -0.739653    0.026854      -0.524879   \n",
       "1948  2.0 -0.305536 -0.387952 -0.729625    0.219349      -0.566810   \n",
       "713   2.0 -0.456326 -0.506023 -0.780332   -1.034741      -1.384559   \n",
       "3743  1.0 -0.256291 -0.363605 -0.708980    0.665746      -0.311009   \n",
       "\n",
       "      visera_wght  shell_wght  \n",
       "940     -1.306932   -1.175267  \n",
       "2688    -1.083873   -1.071536  \n",
       "1948    -0.879160   -0.770149  \n",
       "713     -1.438095   -1.317540  \n",
       "3743    -0.684425   -0.544480  "
      ]
     },
     "execution_count": 22,
     "metadata": {},
     "output_type": "execute_result"
    }
   ],
   "source": [
    "xtrain.head()"
   ]
  },
  {
   "cell_type": "code",
   "execution_count": 23,
   "metadata": {},
   "outputs": [
    {
     "data": {
      "text/html": [
       "<div>\n",
       "<style scoped>\n",
       "    .dataframe tbody tr th:only-of-type {\n",
       "        vertical-align: middle;\n",
       "    }\n",
       "\n",
       "    .dataframe tbody tr th {\n",
       "        vertical-align: top;\n",
       "    }\n",
       "\n",
       "    .dataframe thead th {\n",
       "        text-align: right;\n",
       "    }\n",
       "</style>\n",
       "<table border=\"1\" class=\"dataframe\">\n",
       "  <thead>\n",
       "    <tr style=\"text-align: right;\">\n",
       "      <th></th>\n",
       "      <th>sex</th>\n",
       "      <th>length</th>\n",
       "      <th>diameter</th>\n",
       "      <th>height</th>\n",
       "      <th>whole_wght</th>\n",
       "      <th>shuckled_wght</th>\n",
       "      <th>visera_wght</th>\n",
       "      <th>shell_wght</th>\n",
       "    </tr>\n",
       "  </thead>\n",
       "  <tbody>\n",
       "    <tr>\n",
       "      <th>668</th>\n",
       "      <td>2.0</td>\n",
       "      <td>-0.366574</td>\n",
       "      <td>-0.456820</td>\n",
       "      <td>-0.749574</td>\n",
       "      <td>-0.084055</td>\n",
       "      <td>-0.927667</td>\n",
       "      <td>-0.988287</td>\n",
       "      <td>-0.812914</td>\n",
       "    </tr>\n",
       "    <tr>\n",
       "      <th>1580</th>\n",
       "      <td>0.0</td>\n",
       "      <td>-0.396522</td>\n",
       "      <td>-0.470752</td>\n",
       "      <td>-0.773638</td>\n",
       "      <td>-0.424202</td>\n",
       "      <td>-0.958038</td>\n",
       "      <td>-1.202529</td>\n",
       "      <td>-1.064837</td>\n",
       "    </tr>\n",
       "    <tr>\n",
       "      <th>3784</th>\n",
       "      <td>2.0</td>\n",
       "      <td>-0.320880</td>\n",
       "      <td>-0.424242</td>\n",
       "      <td>-0.749574</td>\n",
       "      <td>0.242706</td>\n",
       "      <td>-0.542314</td>\n",
       "      <td>-0.762517</td>\n",
       "      <td>-0.841173</td>\n",
       "    </tr>\n",
       "    <tr>\n",
       "      <th>463</th>\n",
       "      <td>0.0</td>\n",
       "      <td>-0.520239</td>\n",
       "      <td>-0.572074</td>\n",
       "      <td>-0.814543</td>\n",
       "      <td>-1.433422</td>\n",
       "      <td>-1.629337</td>\n",
       "      <td>-1.678347</td>\n",
       "      <td>-1.561281</td>\n",
       "    </tr>\n",
       "    <tr>\n",
       "      <th>2615</th>\n",
       "      <td>2.0</td>\n",
       "      <td>-0.303513</td>\n",
       "      <td>-0.411755</td>\n",
       "      <td>-0.735337</td>\n",
       "      <td>0.464101</td>\n",
       "      <td>-0.356264</td>\n",
       "      <td>-0.760164</td>\n",
       "      <td>-0.746799</td>\n",
       "    </tr>\n",
       "  </tbody>\n",
       "</table>\n",
       "</div>"
      ],
      "text/plain": [
       "      sex    length  diameter    height  whole_wght  shuckled_wght  \\\n",
       "668   2.0 -0.366574 -0.456820 -0.749574   -0.084055      -0.927667   \n",
       "1580  0.0 -0.396522 -0.470752 -0.773638   -0.424202      -0.958038   \n",
       "3784  2.0 -0.320880 -0.424242 -0.749574    0.242706      -0.542314   \n",
       "463   0.0 -0.520239 -0.572074 -0.814543   -1.433422      -1.629337   \n",
       "2615  2.0 -0.303513 -0.411755 -0.735337    0.464101      -0.356264   \n",
       "\n",
       "      visera_wght  shell_wght  \n",
       "668     -0.988287   -0.812914  \n",
       "1580    -1.202529   -1.064837  \n",
       "3784    -0.762517   -0.841173  \n",
       "463     -1.678347   -1.561281  \n",
       "2615    -0.760164   -0.746799  "
      ]
     },
     "execution_count": 23,
     "metadata": {},
     "output_type": "execute_result"
    }
   ],
   "source": [
    "xtest.head()"
   ]
  },
  {
   "cell_type": "code",
   "execution_count": 24,
   "metadata": {},
   "outputs": [],
   "source": [
    "# from sklearn.preprocessing import StandardScaler\n",
    "# scaler = StandardScaler()"
   ]
  },
  {
   "cell_type": "code",
   "execution_count": 25,
   "metadata": {},
   "outputs": [],
   "source": [
    "# xtrain = scaler.fit_transform(xtrain)"
   ]
  },
  {
   "cell_type": "code",
   "execution_count": 26,
   "metadata": {},
   "outputs": [],
   "source": [
    "# xtest = scaler.fit_transform(xtest)"
   ]
  },
  {
   "cell_type": "code",
   "execution_count": 27,
   "metadata": {},
   "outputs": [],
   "source": [
    "ytrain = ytrain.astype(\"int\")\n",
    "ytest = ytest.astype(\"int\")"
   ]
  },
  {
   "cell_type": "code",
   "execution_count": 28,
   "metadata": {},
   "outputs": [],
   "source": [
    "from sklearn.ensemble import RandomForestRegressor"
   ]
  },
  {
   "cell_type": "code",
   "execution_count": 29,
   "metadata": {},
   "outputs": [],
   "source": [
    "model = RandomForestRegressor(random_state=1234)"
   ]
  },
  {
   "cell_type": "code",
   "execution_count": 30,
   "metadata": {},
   "outputs": [
    {
     "data": {
      "text/plain": [
       "RandomForestRegressor(bootstrap=True, ccp_alpha=0.0, criterion='mse',\n",
       "                      max_depth=None, max_features='auto', max_leaf_nodes=None,\n",
       "                      max_samples=None, min_impurity_decrease=0.0,\n",
       "                      min_impurity_split=None, min_samples_leaf=1,\n",
       "                      min_samples_split=2, min_weight_fraction_leaf=0.0,\n",
       "                      n_estimators=100, n_jobs=None, oob_score=False,\n",
       "                      random_state=1234, verbose=0, warm_start=False)"
      ]
     },
     "execution_count": 30,
     "metadata": {},
     "output_type": "execute_result"
    }
   ],
   "source": [
    "model.fit(xtrain, ytrain)"
   ]
  },
  {
   "cell_type": "code",
   "execution_count": 31,
   "metadata": {},
   "outputs": [],
   "source": [
    "y_pred = model.predict(xtest)"
   ]
  },
  {
   "cell_type": "code",
   "execution_count": 36,
   "metadata": {},
   "outputs": [],
   "source": [
    "from sklearn.metrics import mean_squared_error\n",
    "mse = mean_squared_error(ytest, y_pred)"
   ]
  },
  {
   "cell_type": "code",
   "execution_count": 37,
   "metadata": {},
   "outputs": [
    {
     "data": {
      "text/plain": [
       "1.8704278353043562"
      ]
     },
     "execution_count": 37,
     "metadata": {},
     "output_type": "execute_result"
    }
   ],
   "source": [
    "mse ** 0.5"
   ]
  }
 ],
 "metadata": {
  "kernelspec": {
   "display_name": "Python 3",
   "language": "python",
   "name": "python3"
  },
  "language_info": {
   "codemirror_mode": {
    "name": "ipython",
    "version": 3
   },
   "file_extension": ".py",
   "mimetype": "text/x-python",
   "name": "python",
   "nbconvert_exporter": "python",
   "pygments_lexer": "ipython3",
   "version": "3.7.6"
  }
 },
 "nbformat": 4,
 "nbformat_minor": 4
}
