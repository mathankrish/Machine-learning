{
 "cells": [
  {
   "cell_type": "code",
   "execution_count": 1,
   "metadata": {},
   "outputs": [],
   "source": [
    "import numpy as np \n",
    "import pandas as pd\n",
    "import matplotlib.pyplot as plt\n",
    "import seaborn as sns\n",
    "from scipy import stats\n",
    "%matplotlib inline"
   ]
  },
  {
   "cell_type": "code",
   "execution_count": 104,
   "metadata": {},
   "outputs": [],
   "source": [
    "df = pd.read_excel(\"BreastTissue.xlsx\", sheet_name = \"Data\")\n",
    "df.drop(\"Case #\", axis = 1, inplace = True)"
   ]
  },
  {
   "cell_type": "code",
   "execution_count": 105,
   "metadata": {},
   "outputs": [
    {
     "data": {
      "text/html": [
       "<div>\n",
       "<style scoped>\n",
       "    .dataframe tbody tr th:only-of-type {\n",
       "        vertical-align: middle;\n",
       "    }\n",
       "\n",
       "    .dataframe tbody tr th {\n",
       "        vertical-align: top;\n",
       "    }\n",
       "\n",
       "    .dataframe thead th {\n",
       "        text-align: right;\n",
       "    }\n",
       "</style>\n",
       "<table border=\"1\" class=\"dataframe\">\n",
       "  <thead>\n",
       "    <tr style=\"text-align: right;\">\n",
       "      <th></th>\n",
       "      <th>Class</th>\n",
       "      <th>I0</th>\n",
       "      <th>PA500</th>\n",
       "      <th>HFS</th>\n",
       "      <th>DA</th>\n",
       "      <th>Area</th>\n",
       "      <th>A/DA</th>\n",
       "      <th>Max IP</th>\n",
       "      <th>DR</th>\n",
       "      <th>P</th>\n",
       "    </tr>\n",
       "  </thead>\n",
       "  <tbody>\n",
       "    <tr>\n",
       "      <th>0</th>\n",
       "      <td>car</td>\n",
       "      <td>524.794072</td>\n",
       "      <td>0.187448</td>\n",
       "      <td>0.032114</td>\n",
       "      <td>228.800228</td>\n",
       "      <td>6843.598481</td>\n",
       "      <td>29.910803</td>\n",
       "      <td>60.204880</td>\n",
       "      <td>220.737212</td>\n",
       "      <td>556.828334</td>\n",
       "    </tr>\n",
       "    <tr>\n",
       "      <th>1</th>\n",
       "      <td>car</td>\n",
       "      <td>330.000000</td>\n",
       "      <td>0.226893</td>\n",
       "      <td>0.265290</td>\n",
       "      <td>121.154201</td>\n",
       "      <td>3163.239472</td>\n",
       "      <td>26.109202</td>\n",
       "      <td>69.717361</td>\n",
       "      <td>99.084964</td>\n",
       "      <td>400.225776</td>\n",
       "    </tr>\n",
       "    <tr>\n",
       "      <th>2</th>\n",
       "      <td>car</td>\n",
       "      <td>551.879287</td>\n",
       "      <td>0.232478</td>\n",
       "      <td>0.063530</td>\n",
       "      <td>264.804935</td>\n",
       "      <td>11888.391827</td>\n",
       "      <td>44.894903</td>\n",
       "      <td>77.793297</td>\n",
       "      <td>253.785300</td>\n",
       "      <td>656.769449</td>\n",
       "    </tr>\n",
       "    <tr>\n",
       "      <th>3</th>\n",
       "      <td>car</td>\n",
       "      <td>380.000000</td>\n",
       "      <td>0.240855</td>\n",
       "      <td>0.286234</td>\n",
       "      <td>137.640111</td>\n",
       "      <td>5402.171180</td>\n",
       "      <td>39.248524</td>\n",
       "      <td>88.758446</td>\n",
       "      <td>105.198568</td>\n",
       "      <td>493.701814</td>\n",
       "    </tr>\n",
       "    <tr>\n",
       "      <th>4</th>\n",
       "      <td>car</td>\n",
       "      <td>362.831266</td>\n",
       "      <td>0.200713</td>\n",
       "      <td>0.244346</td>\n",
       "      <td>124.912559</td>\n",
       "      <td>3290.462446</td>\n",
       "      <td>26.342127</td>\n",
       "      <td>69.389389</td>\n",
       "      <td>103.866552</td>\n",
       "      <td>424.796503</td>\n",
       "    </tr>\n",
       "  </tbody>\n",
       "</table>\n",
       "</div>"
      ],
      "text/plain": [
       "  Class          I0     PA500       HFS          DA          Area       A/DA  \\\n",
       "0   car  524.794072  0.187448  0.032114  228.800228   6843.598481  29.910803   \n",
       "1   car  330.000000  0.226893  0.265290  121.154201   3163.239472  26.109202   \n",
       "2   car  551.879287  0.232478  0.063530  264.804935  11888.391827  44.894903   \n",
       "3   car  380.000000  0.240855  0.286234  137.640111   5402.171180  39.248524   \n",
       "4   car  362.831266  0.200713  0.244346  124.912559   3290.462446  26.342127   \n",
       "\n",
       "      Max IP          DR           P  \n",
       "0  60.204880  220.737212  556.828334  \n",
       "1  69.717361   99.084964  400.225776  \n",
       "2  77.793297  253.785300  656.769449  \n",
       "3  88.758446  105.198568  493.701814  \n",
       "4  69.389389  103.866552  424.796503  "
      ]
     },
     "execution_count": 105,
     "metadata": {},
     "output_type": "execute_result"
    }
   ],
   "source": [
    "df.head()"
   ]
  },
  {
   "cell_type": "code",
   "execution_count": 106,
   "metadata": {},
   "outputs": [
    {
     "data": {
      "text/plain": [
       "Class     0\n",
       "I0        0\n",
       "PA500     0\n",
       "HFS       0\n",
       "DA        0\n",
       "Area      0\n",
       "A/DA      0\n",
       "Max IP    0\n",
       "DR        0\n",
       "P         0\n",
       "dtype: int64"
      ]
     },
     "execution_count": 106,
     "metadata": {},
     "output_type": "execute_result"
    }
   ],
   "source": [
    "df.isnull().sum()"
   ]
  },
  {
   "cell_type": "code",
   "execution_count": 107,
   "metadata": {},
   "outputs": [
    {
     "name": "stdout",
     "output_type": "stream",
     "text": [
      "<class 'pandas.core.frame.DataFrame'>\n",
      "RangeIndex: 106 entries, 0 to 105\n",
      "Data columns (total 10 columns):\n",
      " #   Column  Non-Null Count  Dtype  \n",
      "---  ------  --------------  -----  \n",
      " 0   Class   106 non-null    object \n",
      " 1   I0      106 non-null    float64\n",
      " 2   PA500   106 non-null    float64\n",
      " 3   HFS     106 non-null    float64\n",
      " 4   DA      106 non-null    float64\n",
      " 5   Area    106 non-null    float64\n",
      " 6   A/DA    106 non-null    float64\n",
      " 7   Max IP  106 non-null    float64\n",
      " 8   DR      106 non-null    float64\n",
      " 9   P       106 non-null    float64\n",
      "dtypes: float64(9), object(1)\n",
      "memory usage: 8.4+ KB\n"
     ]
    }
   ],
   "source": [
    "df.info()"
   ]
  },
  {
   "cell_type": "code",
   "execution_count": 108,
   "metadata": {},
   "outputs": [
    {
     "data": {
      "text/plain": [
       "['I0', 'PA500', 'HFS', 'DA', 'Area', 'A/DA', 'Max IP', 'DR', 'P']"
      ]
     },
     "execution_count": 108,
     "metadata": {},
     "output_type": "execute_result"
    }
   ],
   "source": [
    "numerical = [i for i in df.columns if df[i].dtype != \"O\"]\n",
    "numerical"
   ]
  },
  {
   "cell_type": "code",
   "execution_count": 109,
   "metadata": {},
   "outputs": [
    {
     "data": {
      "image/png": "[encoded data removed]",
      "text/plain": [
       "<Figure size 1080x720 with 9 Axes>"
      ]
     },
     "metadata": {
      "needs_background": "light"
     },
     "output_type": "display_data"
    }
   ],
   "source": [
    "plt.figure(figsize = (15, 10))\n",
    "\n",
    "for i in range(1, len(numerical)+1):\n",
    "    plt.subplot(3,3,i)\n",
    "    fig = df.boxplot(column = numerical[i-1])\n",
    "    # fig.set_title(\"Pregnancies\")\n"
   ]
  },
  {
   "cell_type": "code",
   "execution_count": 110,
   "metadata": {},
   "outputs": [],
   "source": [
    "for i in range(1, len(numerical)+1):\n",
    "    \n",
    "    iqr = df[numerical[i-1]].quantile(0.75) - df[numerical[i-1]].quantile(0.25)\n",
    "    min_val = df[numerical[i-1]].quantile(0.25) - (iqr * 1.5)\n",
    "    max_val = df[numerical[i-1]].quantile(0.75) + (iqr * 1.5)\n",
    "    df[numerical[i-1]] = np.where(df[numerical[i-1]] > max_val, max_val, df[numerical[i-1]])\n",
    "    df[numerical[i-1]] = np.where(df[numerical[i-1]] < min_val, min_val, df[numerical[i-1]])\n",
    "\n"
   ]
  },
  {
   "cell_type": "code",
   "execution_count": 111,
   "metadata": {},
   "outputs": [
    {
     "data": {
      "text/plain": [
       "Class     0\n",
       "I0        0\n",
       "PA500     0\n",
       "HFS       0\n",
       "DA        0\n",
       "Area      0\n",
       "A/DA      0\n",
       "Max IP    0\n",
       "DR        0\n",
       "P         0\n",
       "dtype: int64"
      ]
     },
     "execution_count": 111,
     "metadata": {},
     "output_type": "execute_result"
    }
   ],
   "source": [
    "df.isnull().sum()"
   ]
  },
  {
   "cell_type": "code",
   "execution_count": 112,
   "metadata": {},
   "outputs": [
    {
     "data": {
      "image/png": "[encoded data removed]",
      "text/plain": [
       "<Figure size 1080x720 with 9 Axes>"
      ]
     },
     "metadata": {
      "needs_background": "light"
     },
     "output_type": "display_data"
    }
   ],
   "source": [
    "plt.figure(figsize = (15, 10))\n",
    "\n",
    "for i in range(1, len(numerical)+1):\n",
    "    plt.subplot(3,3,i)\n",
    "    fig = df.boxplot(column = numerical[i-1])\n",
    "    # fig.set_title(\"Pregnancies\")\n"
   ]
  },
  {
   "cell_type": "code",
   "execution_count": 113,
   "metadata": {},
   "outputs": [
    {
     "data": {
      "image/png": "[encoded data removed]",
      "text/plain": [
       "<Figure size 1080x720 with 9 Axes>"
      ]
     },
     "metadata": {
      "needs_background": "light"
     },
     "output_type": "display_data"
    }
   ],
   "source": [
    "plt.figure(figsize = (15, 10))\n",
    "\n",
    "for i in range(1, len(numerical)+1):\n",
    "    plt.subplot(3,3,i)\n",
    "    fig = df[numerical[i-1]].hist(bins = 30)\n",
    "    fig.set_title(numerical[i-1])\n"
   ]
  },
  {
   "cell_type": "code",
   "execution_count": 114,
   "metadata": {},
   "outputs": [
    {
     "data": {
      "text/plain": [
       "array(['car', 'fad', 'mas', 'gla', 'con', 'adi'], dtype=object)"
      ]
     },
     "execution_count": 114,
     "metadata": {},
     "output_type": "execute_result"
    }
   ],
   "source": [
    "df[\"Class\"].unique()"
   ]
  },
  {
   "cell_type": "code",
   "execution_count": 115,
   "metadata": {},
   "outputs": [],
   "source": [
    "x = df.drop(\"Class\", axis = 1)\n",
    "y = df[\"Class\"]"
   ]
  },
  {
   "cell_type": "code",
   "execution_count": 116,
   "metadata": {},
   "outputs": [
    {
     "data": {
      "text/plain": [
       "0"
      ]
     },
     "execution_count": 116,
     "metadata": {},
     "output_type": "execute_result"
    }
   ],
   "source": [
    "y.isnull().sum()"
   ]
  },
  {
   "cell_type": "code",
   "execution_count": 117,
   "metadata": {},
   "outputs": [],
   "source": [
    "from sklearn.model_selection import train_test_split\n",
    "\n",
    "xtrain, xtest, ytrain, ytest = train_test_split(x, y, random_state = 0)"
   ]
  },
  {
   "cell_type": "code",
   "execution_count": 118,
   "metadata": {},
   "outputs": [
    {
     "name": "stdout",
     "output_type": "stream",
     "text": [
      "<class 'pandas.core.frame.DataFrame'>\n",
      "Int64Index: 79 entries, 48 to 44\n",
      "Data columns (total 9 columns):\n",
      " #   Column  Non-Null Count  Dtype  \n",
      "---  ------  --------------  -----  \n",
      " 0   I0      79 non-null     float64\n",
      " 1   PA500   79 non-null     float64\n",
      " 2   HFS     79 non-null     float64\n",
      " 3   DA      79 non-null     float64\n",
      " 4   Area    79 non-null     float64\n",
      " 5   A/DA    79 non-null     float64\n",
      " 6   Max IP  79 non-null     float64\n",
      " 7   DR      79 non-null     float64\n",
      " 8   P       79 non-null     float64\n",
      "dtypes: float64(9)\n",
      "memory usage: 6.2 KB\n"
     ]
    }
   ],
   "source": [
    "xtrain.info()"
   ]
  },
  {
   "cell_type": "code",
   "execution_count": 119,
   "metadata": {},
   "outputs": [
    {
     "name": "stderr",
     "output_type": "stream",
     "text": [
      "C:\\Users\\Mathan\\anaconda3\\lib\\site-packages\\ipykernel_launcher.py:6: SettingWithCopyWarning: \n",
      "A value is trying to be set on a copy of a slice from a DataFrame.\n",
      "Try using .loc[row_indexer,col_indexer] = value instead\n",
      "\n",
      "See the caveats in the documentation: https://pandas.pydata.org/pandas-docs/stable/user_guide/indexing.html#returning-a-view-versus-a-copy\n",
      "  \n",
      "C:\\Users\\Mathan\\anaconda3\\lib\\site-packages\\ipykernel_launcher.py:7: SettingWithCopyWarning: \n",
      "A value is trying to be set on a copy of a slice from a DataFrame.\n",
      "Try using .loc[row_indexer,col_indexer] = value instead\n",
      "\n",
      "See the caveats in the documentation: https://pandas.pydata.org/pandas-docs/stable/user_guide/indexing.html#returning-a-view-versus-a-copy\n",
      "  import sys\n",
      "C:\\Users\\Mathan\\anaconda3\\lib\\site-packages\\pandas\\core\\series.py:679: RuntimeWarning: invalid value encountered in sqrt\n",
      "  result = getattr(ufunc, method)(*inputs, **kwargs)\n"
     ]
    },
    {
     "data": {
      "image/png": "[encoded data removed]",
      "text/plain": [
       "<Figure size 1080x720 with 9 Axes>"
      ]
     },
     "metadata": {
      "needs_background": "light"
     },
     "output_type": "display_data"
    }
   ],
   "source": [
    "skew = xtrain.columns\n",
    "plt.figure(figsize = (15, 10))\n",
    "\n",
    "for i in range(1, len(skew)+1):\n",
    "    plt.subplot(3,3,i)\n",
    "    xtrain[skew[i-1]] = np.sqrt(xtrain[skew[i-1]])\n",
    "    xtest[skew[i-1]] = np.sqrt(xtest[skew[i-1]])\n",
    "    fig = xtrain[skew[i-1]].hist(bins = 30)\n",
    "    fig.set_title(numerical[i-1])\n"
   ]
  },
  {
   "cell_type": "code",
   "execution_count": 120,
   "metadata": {},
   "outputs": [
    {
     "data": {
      "text/html": [
       "<div>\n",
       "<style scoped>\n",
       "    .dataframe tbody tr th:only-of-type {\n",
       "        vertical-align: middle;\n",
       "    }\n",
       "\n",
       "    .dataframe tbody tr th {\n",
       "        vertical-align: top;\n",
       "    }\n",
       "\n",
       "    .dataframe thead th {\n",
       "        text-align: right;\n",
       "    }\n",
       "</style>\n",
       "<table border=\"1\" class=\"dataframe\">\n",
       "  <thead>\n",
       "    <tr style=\"text-align: right;\">\n",
       "      <th></th>\n",
       "      <th>I0</th>\n",
       "      <th>PA500</th>\n",
       "      <th>HFS</th>\n",
       "      <th>DA</th>\n",
       "      <th>Area</th>\n",
       "      <th>A/DA</th>\n",
       "      <th>Max IP</th>\n",
       "      <th>DR</th>\n",
       "      <th>P</th>\n",
       "    </tr>\n",
       "  </thead>\n",
       "  <tbody>\n",
       "    <tr>\n",
       "      <th>48</th>\n",
       "      <td>16.133119</td>\n",
       "      <td>0.281182</td>\n",
       "      <td>0.181141</td>\n",
       "      <td>7.669264</td>\n",
       "      <td>16.651097</td>\n",
       "      <td>2.171147</td>\n",
       "      <td>4.227135</td>\n",
       "      <td>7.485832</td>\n",
       "      <td>15.767797</td>\n",
       "    </tr>\n",
       "    <tr>\n",
       "      <th>30</th>\n",
       "      <td>16.492423</td>\n",
       "      <td>0.302416</td>\n",
       "      <td>0.069907</td>\n",
       "      <td>7.986825</td>\n",
       "      <td>26.813174</td>\n",
       "      <td>3.357175</td>\n",
       "      <td>4.481691</td>\n",
       "      <td>7.790425</td>\n",
       "      <td>16.938720</td>\n",
       "    </tr>\n",
       "    <tr>\n",
       "      <th>6</th>\n",
       "      <td>17.042745</td>\n",
       "      <td>0.379690</td>\n",
       "      <td>0.230343</td>\n",
       "      <td>8.639159</td>\n",
       "      <td>34.489784</td>\n",
       "      <td>3.992262</td>\n",
       "      <td>5.975226</td>\n",
       "      <td>8.095760</td>\n",
       "      <td>18.173258</td>\n",
       "    </tr>\n",
       "    <tr>\n",
       "      <th>78</th>\n",
       "      <td>38.232844</td>\n",
       "      <td>0.202091</td>\n",
       "      <td>0.222637</td>\n",
       "      <td>19.795101</td>\n",
       "      <td>74.659245</td>\n",
       "      <td>3.771602</td>\n",
       "      <td>7.565149</td>\n",
       "      <td>19.688677</td>\n",
       "      <td>37.800000</td>\n",
       "    </tr>\n",
       "    <tr>\n",
       "      <th>93</th>\n",
       "      <td>43.588989</td>\n",
       "      <td>0.233354</td>\n",
       "      <td>0.337336</td>\n",
       "      <td>16.511149</td>\n",
       "      <td>86.496205</td>\n",
       "      <td>5.238655</td>\n",
       "      <td>11.762622</td>\n",
       "      <td>15.326399</td>\n",
       "      <td>43.869328</td>\n",
       "    </tr>\n",
       "  </tbody>\n",
       "</table>\n",
       "</div>"
      ],
      "text/plain": [
       "           I0     PA500       HFS         DA       Area      A/DA     Max IP  \\\n",
       "48  16.133119  0.281182  0.181141   7.669264  16.651097  2.171147   4.227135   \n",
       "30  16.492423  0.302416  0.069907   7.986825  26.813174  3.357175   4.481691   \n",
       "6   17.042745  0.379690  0.230343   8.639159  34.489784  3.992262   5.975226   \n",
       "78  38.232844  0.202091  0.222637  19.795101  74.659245  3.771602   7.565149   \n",
       "93  43.588989  0.233354  0.337336  16.511149  86.496205  5.238655  11.762622   \n",
       "\n",
       "           DR          P  \n",
       "48   7.485832  15.767797  \n",
       "30   7.790425  16.938720  \n",
       "6    8.095760  18.173258  \n",
       "78  19.688677  37.800000  \n",
       "93  15.326399  43.869328  "
      ]
     },
     "execution_count": 120,
     "metadata": {},
     "output_type": "execute_result"
    }
   ],
   "source": [
    "xtrain.head()"
   ]
  },
  {
   "cell_type": "code",
   "execution_count": 121,
   "metadata": {},
   "outputs": [
    {
     "data": {
      "text/html": [
       "<div>\n",
       "<style scoped>\n",
       "    .dataframe tbody tr th:only-of-type {\n",
       "        vertical-align: middle;\n",
       "    }\n",
       "\n",
       "    .dataframe tbody tr th {\n",
       "        vertical-align: top;\n",
       "    }\n",
       "\n",
       "    .dataframe thead th {\n",
       "        text-align: right;\n",
       "    }\n",
       "</style>\n",
       "<table border=\"1\" class=\"dataframe\">\n",
       "  <thead>\n",
       "    <tr style=\"text-align: right;\">\n",
       "      <th></th>\n",
       "      <th>I0</th>\n",
       "      <th>PA500</th>\n",
       "      <th>HFS</th>\n",
       "      <th>DA</th>\n",
       "      <th>Area</th>\n",
       "      <th>A/DA</th>\n",
       "      <th>Max IP</th>\n",
       "      <th>DR</th>\n",
       "      <th>P</th>\n",
       "    </tr>\n",
       "  </thead>\n",
       "  <tbody>\n",
       "    <tr>\n",
       "      <th>99</th>\n",
       "      <td>48.989795</td>\n",
       "      <td>0.290043</td>\n",
       "      <td>0.469691</td>\n",
       "      <td>23.612895</td>\n",
       "      <td>135.733348</td>\n",
       "      <td>7.978220</td>\n",
       "      <td>12.993796</td>\n",
       "      <td>22.799195</td>\n",
       "      <td>49.474967</td>\n",
       "    </tr>\n",
       "    <tr>\n",
       "      <th>10</th>\n",
       "      <td>20.248457</td>\n",
       "      <td>0.563759</td>\n",
       "      <td>0.545348</td>\n",
       "      <td>15.994223</td>\n",
       "      <td>103.065742</td>\n",
       "      <td>6.443935</td>\n",
       "      <td>8.217251</td>\n",
       "      <td>15.708050</td>\n",
       "      <td>22.550839</td>\n",
       "    </tr>\n",
       "    <tr>\n",
       "      <th>75</th>\n",
       "      <td>27.748874</td>\n",
       "      <td>0.204030</td>\n",
       "      <td>0.049341</td>\n",
       "      <td>13.229501</td>\n",
       "      <td>18.603530</td>\n",
       "      <td>1.406216</td>\n",
       "      <td>5.022184</td>\n",
       "      <td>13.160271</td>\n",
       "      <td>25.589029</td>\n",
       "    </tr>\n",
       "    <tr>\n",
       "      <th>2</th>\n",
       "      <td>23.492111</td>\n",
       "      <td>0.482160</td>\n",
       "      <td>0.252052</td>\n",
       "      <td>16.272828</td>\n",
       "      <td>109.033902</td>\n",
       "      <td>6.700366</td>\n",
       "      <td>8.820051</td>\n",
       "      <td>15.930640</td>\n",
       "      <td>25.627514</td>\n",
       "    </tr>\n",
       "    <tr>\n",
       "      <th>24</th>\n",
       "      <td>18.779149</td>\n",
       "      <td>0.349283</td>\n",
       "      <td>0.301259</td>\n",
       "      <td>8.278155</td>\n",
       "      <td>32.652073</td>\n",
       "      <td>3.944366</td>\n",
       "      <td>6.609987</td>\n",
       "      <td>7.265867</td>\n",
       "      <td>19.563568</td>\n",
       "    </tr>\n",
       "  </tbody>\n",
       "</table>\n",
       "</div>"
      ],
      "text/plain": [
       "           I0     PA500       HFS         DA        Area      A/DA     Max IP  \\\n",
       "99  48.989795  0.290043  0.469691  23.612895  135.733348  7.978220  12.993796   \n",
       "10  20.248457  0.563759  0.545348  15.994223  103.065742  6.443935   8.217251   \n",
       "75  27.748874  0.204030  0.049341  13.229501   18.603530  1.406216   5.022184   \n",
       "2   23.492111  0.482160  0.252052  16.272828  109.033902  6.700366   8.820051   \n",
       "24  18.779149  0.349283  0.301259   8.278155   32.652073  3.944366   6.609987   \n",
       "\n",
       "           DR          P  \n",
       "99  22.799195  49.474967  \n",
       "10  15.708050  22.550839  \n",
       "75  13.160271  25.589029  \n",
       "2   15.930640  25.627514  \n",
       "24   7.265867  19.563568  "
      ]
     },
     "execution_count": 121,
     "metadata": {},
     "output_type": "execute_result"
    }
   ],
   "source": [
    "xtest.head()"
   ]
  },
  {
   "cell_type": "code",
   "execution_count": 136,
   "metadata": {},
   "outputs": [
    {
     "data": {
      "text/html": [
       "<div>\n",
       "<style scoped>\n",
       "    .dataframe tbody tr th:only-of-type {\n",
       "        vertical-align: middle;\n",
       "    }\n",
       "\n",
       "    .dataframe tbody tr th {\n",
       "        vertical-align: top;\n",
       "    }\n",
       "\n",
       "    .dataframe thead th {\n",
       "        text-align: right;\n",
       "    }\n",
       "</style>\n",
       "<table border=\"1\" class=\"dataframe\">\n",
       "  <thead>\n",
       "    <tr style=\"text-align: right;\">\n",
       "      <th></th>\n",
       "      <th>I0</th>\n",
       "      <th>PA500</th>\n",
       "      <th>HFS</th>\n",
       "      <th>DA</th>\n",
       "      <th>Area</th>\n",
       "      <th>A/DA</th>\n",
       "      <th>Max IP</th>\n",
       "      <th>DR</th>\n",
       "      <th>P</th>\n",
       "    </tr>\n",
       "  </thead>\n",
       "  <tbody>\n",
       "    <tr>\n",
       "      <th>27</th>\n",
       "      <td>15.811388</td>\n",
       "      <td>0.260898</td>\n",
       "      <td>NaN</td>\n",
       "      <td>7.561245</td>\n",
       "      <td>25.551934</td>\n",
       "      <td>3.379329</td>\n",
       "      <td>4.216276</td>\n",
       "      <td>7.469355</td>\n",
       "      <td>16.682584</td>\n",
       "    </tr>\n",
       "    <tr>\n",
       "      <th>103</th>\n",
       "      <td>40.000000</td>\n",
       "      <td>0.268156</td>\n",
       "      <td>NaN</td>\n",
       "      <td>20.903196</td>\n",
       "      <td>112.495965</td>\n",
       "      <td>5.381759</td>\n",
       "      <td>10.184925</td>\n",
       "      <td>20.787731</td>\n",
       "      <td>38.410565</td>\n",
       "    </tr>\n",
       "    <tr>\n",
       "      <th>88</th>\n",
       "      <td>41.231056</td>\n",
       "      <td>0.209720</td>\n",
       "      <td>0.324233</td>\n",
       "      <td>10.984216</td>\n",
       "      <td>111.045500</td>\n",
       "      <td>8.069247</td>\n",
       "      <td>10.968013</td>\n",
       "      <td>NaN</td>\n",
       "      <td>47.033798</td>\n",
       "    </tr>\n",
       "    <tr>\n",
       "      <th>70</th>\n",
       "      <td>41.522161</td>\n",
       "      <td>0.229584</td>\n",
       "      <td>NaN</td>\n",
       "      <td>20.102891</td>\n",
       "      <td>55.262708</td>\n",
       "      <td>2.748993</td>\n",
       "      <td>8.451484</td>\n",
       "      <td>19.979846</td>\n",
       "      <td>38.592573</td>\n",
       "    </tr>\n",
       "  </tbody>\n",
       "</table>\n",
       "</div>"
      ],
      "text/plain": [
       "            I0     PA500       HFS         DA        Area      A/DA  \\\n",
       "27   15.811388  0.260898       NaN   7.561245   25.551934  3.379329   \n",
       "103  40.000000  0.268156       NaN  20.903196  112.495965  5.381759   \n",
       "88   41.231056  0.209720  0.324233  10.984216  111.045500  8.069247   \n",
       "70   41.522161  0.229584       NaN  20.102891   55.262708  2.748993   \n",
       "\n",
       "        Max IP         DR          P  \n",
       "27    4.216276   7.469355  16.682584  \n",
       "103  10.184925  20.787731  38.410565  \n",
       "88   10.968013        NaN  47.033798  \n",
       "70    8.451484  19.979846  38.592573  "
      ]
     },
     "execution_count": 136,
     "metadata": {},
     "output_type": "execute_result"
    }
   ],
   "source": [
    "xtrain[xtrain.isna().any(axis=1)]\n",
    "# xtest[xtest.isna().any(axis=1)]"
   ]
  },
  {
   "cell_type": "code",
   "execution_count": 137,
   "metadata": {},
   "outputs": [
    {
     "name": "stderr",
     "output_type": "stream",
     "text": [
      "C:\\Users\\Mathan\\anaconda3\\lib\\site-packages\\pandas\\core\\generic.py:6245: SettingWithCopyWarning: \n",
      "A value is trying to be set on a copy of a slice from a DataFrame\n",
      "\n",
      "See the caveats in the documentation: https://pandas.pydata.org/pandas-docs/stable/user_guide/indexing.html#returning-a-view-versus-a-copy\n",
      "  self._update_inplace(new_data)\n"
     ]
    }
   ],
   "source": [
    "xtrain['HFS'].fillna(xtrain['HFS'].mean(), inplace=True)\n",
    "xtrain['DR'].fillna(xtrain['DR'].mean(), inplace=True)\n",
    "xtest['HFS'].fillna(xtest['HFS'].mean(), inplace=True)\n"
   ]
  },
  {
   "cell_type": "code",
   "execution_count": 138,
   "metadata": {},
   "outputs": [],
   "source": [
    "from sklearn.ensemble import RandomForestClassifier"
   ]
  },
  {
   "cell_type": "code",
   "execution_count": 139,
   "metadata": {},
   "outputs": [],
   "source": [
    "model = RandomForestClassifier(random_state=1234)"
   ]
  },
  {
   "cell_type": "code",
   "execution_count": 140,
   "metadata": {},
   "outputs": [
    {
     "data": {
      "text/plain": [
       "RandomForestClassifier(bootstrap=True, ccp_alpha=0.0, class_weight=None,\n",
       "                       criterion='gini', max_depth=None, max_features='auto',\n",
       "                       max_leaf_nodes=None, max_samples=None,\n",
       "                       min_impurity_decrease=0.0, min_impurity_split=None,\n",
       "                       min_samples_leaf=1, min_samples_split=2,\n",
       "                       min_weight_fraction_leaf=0.0, n_estimators=100,\n",
       "                       n_jobs=None, oob_score=False, random_state=1234,\n",
       "                       verbose=0, warm_start=False)"
      ]
     },
     "execution_count": 140,
     "metadata": {},
     "output_type": "execute_result"
    }
   ],
   "source": [
    "model.fit(xtrain, ytrain)"
   ]
  },
  {
   "cell_type": "code",
   "execution_count": 141,
   "metadata": {},
   "outputs": [
    {
     "data": {
      "text/plain": [
       "0"
      ]
     },
     "execution_count": 141,
     "metadata": {},
     "output_type": "execute_result"
    }
   ],
   "source": [
    "ytrain.isnull().sum()"
   ]
  },
  {
   "cell_type": "code",
   "execution_count": 142,
   "metadata": {},
   "outputs": [],
   "source": [
    "y_pred = model.predict(xtest)"
   ]
  },
  {
   "cell_type": "code",
   "execution_count": 143,
   "metadata": {},
   "outputs": [
    {
     "data": {
      "text/plain": [
       "0.7777777777777778"
      ]
     },
     "execution_count": 143,
     "metadata": {},
     "output_type": "execute_result"
    }
   ],
   "source": [
    "from sklearn.metrics import accuracy_score\n",
    "accuracy_score(ytest, y_pred)"
   ]
  },
  {
   "cell_type": "code",
   "execution_count": null,
   "metadata": {},
   "outputs": [],
   "source": []
  }
 ],
 "metadata": {
  "kernelspec": {
   "display_name": "Python 3",
   "language": "python",
   "name": "python3"
  },
  "language_info": {
   "codemirror_mode": {
    "name": "ipython",
    "version": 3
   },
   "file_extension": ".py",
   "mimetype": "text/x-python",
   "name": "python",
   "nbconvert_exporter": "python",
   "pygments_lexer": "ipython3",
   "version": "3.7.6"
  }
 },
 "nbformat": 4,
 "nbformat_minor": 4
}
