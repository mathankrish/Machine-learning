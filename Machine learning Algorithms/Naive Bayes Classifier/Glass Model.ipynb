{
 "cells": [
  {
   "cell_type": "code",
   "execution_count": 1,
   "metadata": {},
   "outputs": [],
   "source": [
    "import numpy as np\n",
    "import pandas as pd\n",
    "from scipy import stats\n",
    "import seaborn as sns\n",
    "import matplotlib.pyplot as plt\n",
    "%matplotlib inline"
   ]
  },
  {
   "cell_type": "code",
   "execution_count": 3,
   "metadata": {},
   "outputs": [
    {
     "data": {
      "text/html": [
       "<div>\n",
       "<style scoped>\n",
       "    .dataframe tbody tr th:only-of-type {\n",
       "        vertical-align: middle;\n",
       "    }\n",
       "\n",
       "    .dataframe tbody tr th {\n",
       "        vertical-align: top;\n",
       "    }\n",
       "\n",
       "    .dataframe thead th {\n",
       "        text-align: right;\n",
       "    }\n",
       "</style>\n",
       "<table border=\"1\" class=\"dataframe\">\n",
       "  <thead>\n",
       "    <tr style=\"text-align: right;\">\n",
       "      <th></th>\n",
       "      <th>RI</th>\n",
       "      <th>Na</th>\n",
       "      <th>Mg</th>\n",
       "      <th>Al</th>\n",
       "      <th>Si</th>\n",
       "      <th>K</th>\n",
       "      <th>Ca</th>\n",
       "      <th>Ba</th>\n",
       "      <th>Fe</th>\n",
       "      <th>Type</th>\n",
       "    </tr>\n",
       "  </thead>\n",
       "  <tbody>\n",
       "    <tr>\n",
       "      <th>0</th>\n",
       "      <td>1.52101</td>\n",
       "      <td>13.64</td>\n",
       "      <td>4.49</td>\n",
       "      <td>1.10</td>\n",
       "      <td>71.78</td>\n",
       "      <td>0.06</td>\n",
       "      <td>8.75</td>\n",
       "      <td>0.0</td>\n",
       "      <td>0.0</td>\n",
       "      <td>1</td>\n",
       "    </tr>\n",
       "    <tr>\n",
       "      <th>1</th>\n",
       "      <td>1.51761</td>\n",
       "      <td>13.89</td>\n",
       "      <td>3.60</td>\n",
       "      <td>1.36</td>\n",
       "      <td>72.73</td>\n",
       "      <td>0.48</td>\n",
       "      <td>7.83</td>\n",
       "      <td>0.0</td>\n",
       "      <td>0.0</td>\n",
       "      <td>1</td>\n",
       "    </tr>\n",
       "    <tr>\n",
       "      <th>2</th>\n",
       "      <td>1.51618</td>\n",
       "      <td>13.53</td>\n",
       "      <td>3.55</td>\n",
       "      <td>1.54</td>\n",
       "      <td>72.99</td>\n",
       "      <td>0.39</td>\n",
       "      <td>7.78</td>\n",
       "      <td>0.0</td>\n",
       "      <td>0.0</td>\n",
       "      <td>1</td>\n",
       "    </tr>\n",
       "    <tr>\n",
       "      <th>3</th>\n",
       "      <td>1.51766</td>\n",
       "      <td>13.21</td>\n",
       "      <td>3.69</td>\n",
       "      <td>1.29</td>\n",
       "      <td>72.61</td>\n",
       "      <td>0.57</td>\n",
       "      <td>8.22</td>\n",
       "      <td>0.0</td>\n",
       "      <td>0.0</td>\n",
       "      <td>1</td>\n",
       "    </tr>\n",
       "    <tr>\n",
       "      <th>4</th>\n",
       "      <td>1.51742</td>\n",
       "      <td>13.27</td>\n",
       "      <td>3.62</td>\n",
       "      <td>1.24</td>\n",
       "      <td>73.08</td>\n",
       "      <td>0.55</td>\n",
       "      <td>8.07</td>\n",
       "      <td>0.0</td>\n",
       "      <td>0.0</td>\n",
       "      <td>1</td>\n",
       "    </tr>\n",
       "  </tbody>\n",
       "</table>\n",
       "</div>"
      ],
      "text/plain": [
       "        RI     Na    Mg    Al     Si     K    Ca   Ba   Fe  Type\n",
       "0  1.52101  13.64  4.49  1.10  71.78  0.06  8.75  0.0  0.0     1\n",
       "1  1.51761  13.89  3.60  1.36  72.73  0.48  7.83  0.0  0.0     1\n",
       "2  1.51618  13.53  3.55  1.54  72.99  0.39  7.78  0.0  0.0     1\n",
       "3  1.51766  13.21  3.69  1.29  72.61  0.57  8.22  0.0  0.0     1\n",
       "4  1.51742  13.27  3.62  1.24  73.08  0.55  8.07  0.0  0.0     1"
      ]
     },
     "execution_count": 3,
     "metadata": {},
     "output_type": "execute_result"
    }
   ],
   "source": [
    "df = pd.read_csv(\"glass.csv\")\n",
    "df.head()"
   ]
  },
  {
   "cell_type": "code",
   "execution_count": 4,
   "metadata": {},
   "outputs": [],
   "source": [
    "numerical = [i for i in df.columns if df[i].dtype != 'O']"
   ]
  },
  {
   "cell_type": "code",
   "execution_count": 5,
   "metadata": {},
   "outputs": [
    {
     "data": {
      "text/plain": [
       "RI      0\n",
       "Na      0\n",
       "Mg      0\n",
       "Al      0\n",
       "Si      0\n",
       "K       0\n",
       "Ca      0\n",
       "Ba      0\n",
       "Fe      0\n",
       "Type    0\n",
       "dtype: int64"
      ]
     },
     "execution_count": 5,
     "metadata": {},
     "output_type": "execute_result"
    }
   ],
   "source": [
    "df.isnull().sum()"
   ]
  },
  {
   "cell_type": "code",
   "execution_count": 6,
   "metadata": {},
   "outputs": [
    {
     "name": "stdout",
     "output_type": "stream",
     "text": [
      "1.52152    3\n",
      "1.51645    3\n",
      "1.51590    3\n",
      "1.52213    2\n",
      "1.51763    2\n",
      "          ..\n",
      "1.51800    1\n",
      "1.51750    1\n",
      "1.51665    1\n",
      "1.51736    1\n",
      "1.53125    1\n",
      "Name: RI, Length: 178, dtype: int64\n",
      "13.00    5\n",
      "13.02    5\n",
      "13.21    5\n",
      "12.85    4\n",
      "13.64    4\n",
      "        ..\n",
      "13.60    1\n",
      "12.62    1\n",
      "12.35    1\n",
      "13.90    1\n",
      "13.99    1\n",
      "Name: Na, Length: 142, dtype: int64\n",
      "0.00    42\n",
      "3.54     8\n",
      "3.48     8\n",
      "3.58     8\n",
      "3.52     7\n",
      "        ..\n",
      "2.72     1\n",
      "3.86     1\n",
      "3.46     1\n",
      "3.15     1\n",
      "3.75     1\n",
      "Name: Mg, Length: 94, dtype: int64\n",
      "1.54    8\n",
      "1.19    6\n",
      "1.29    5\n",
      "1.43    5\n",
      "1.23    5\n",
      "       ..\n",
      "1.94    1\n",
      "0.58    1\n",
      "0.91    1\n",
      "1.61    1\n",
      "1.86    1\n",
      "Name: Al, Length: 118, dtype: int64\n",
      "72.86    4\n",
      "73.28    4\n",
      "73.10    4\n",
      "72.99    4\n",
      "73.11    4\n",
      "        ..\n",
      "73.72    1\n",
      "72.55    1\n",
      "73.46    1\n",
      "72.44    1\n",
      "72.14    1\n",
      "Name: Si, Length: 133, dtype: int64\n",
      "0.00    30\n",
      "0.57    12\n",
      "0.60    11\n",
      "0.56    11\n",
      "0.58    10\n",
      "        ..\n",
      "0.18     1\n",
      "1.10     1\n",
      "0.32     1\n",
      "0.48     1\n",
      "0.50     1\n",
      "Name: K, Length: 65, dtype: int64\n",
      "8.03    5\n",
      "8.43    5\n",
      "9.57    4\n",
      "8.44    4\n",
      "8.79    4\n",
      "       ..\n",
      "8.71    1\n",
      "7.89    1\n",
      "9.03    1\n",
      "9.08    1\n",
      "6.47    1\n",
      "Name: Ca, Length: 143, dtype: int64\n",
      "0.00    176\n",
      "1.57      2\n",
      "0.64      2\n",
      "0.09      2\n",
      "1.59      2\n",
      "0.11      2\n",
      "0.15      1\n",
      "1.55      1\n",
      "0.61      1\n",
      "0.63      1\n",
      "1.06      1\n",
      "2.88      1\n",
      "0.53      1\n",
      "0.56      1\n",
      "0.67      1\n",
      "0.81      1\n",
      "0.69      1\n",
      "0.14      1\n",
      "1.67      1\n",
      "1.68      1\n",
      "1.38      1\n",
      "1.71      1\n",
      "0.54      1\n",
      "1.63      1\n",
      "2.20      1\n",
      "0.24      1\n",
      "0.40      1\n",
      "1.64      1\n",
      "0.06      1\n",
      "0.66      1\n",
      "0.27      1\n",
      "0.76      1\n",
      "3.15      1\n",
      "1.19      1\n",
      "Name: Ba, dtype: int64\n",
      "0.00    144\n",
      "0.17      7\n",
      "0.24      7\n",
      "0.09      6\n",
      "0.10      5\n",
      "0.11      4\n",
      "0.07      3\n",
      "0.14      3\n",
      "0.28      3\n",
      "0.16      3\n",
      "0.12      3\n",
      "0.22      3\n",
      "0.19      2\n",
      "0.08      2\n",
      "0.15      2\n",
      "0.21      1\n",
      "0.29      1\n",
      "0.25      1\n",
      "0.34      1\n",
      "0.03      1\n",
      "0.32      1\n",
      "0.26      1\n",
      "0.31      1\n",
      "0.18      1\n",
      "0.06      1\n",
      "0.20      1\n",
      "0.05      1\n",
      "0.37      1\n",
      "0.30      1\n",
      "0.51      1\n",
      "0.01      1\n",
      "0.35      1\n",
      "Name: Fe, dtype: int64\n",
      "2    76\n",
      "1    70\n",
      "7    29\n",
      "3    17\n",
      "5    13\n",
      "6     9\n",
      "Name: Type, dtype: int64\n"
     ]
    }
   ],
   "source": [
    "for i in numerical:\n",
    "    \n",
    "    print(df[i].value_counts())"
   ]
  },
  {
   "cell_type": "code",
   "execution_count": 23,
   "metadata": {},
   "outputs": [
    {
     "data": {
      "text/plain": [
       "Index(['RI', 'Na', 'Mg', 'Al', 'Si', 'K', 'Ca', 'Ba', 'Fe', 'Type'], dtype='object')"
      ]
     },
     "execution_count": 23,
     "metadata": {},
     "output_type": "execute_result"
    }
   ],
   "source": [
    "df.columns"
   ]
  },
  {
   "cell_type": "code",
   "execution_count": 28,
   "metadata": {},
   "outputs": [
    {
     "data": {
      "image/png": "[encoded data removed]",
      "text/plain": [
       "<Figure size 1080x720 with 9 Axes>"
      ]
     },
     "metadata": {
      "needs_background": "light"
     },
     "output_type": "display_data"
    }
   ],
   "source": [
    "plt.figure(figsize = (15, 10))\n",
    "\n",
    "for i in range(1, 10):\n",
    "    plt.subplot(3,3,i)\n",
    "    fig = df[numerical[i-1]].hist(bins = 10)\n",
    "    fig.set_title(numerical[i-1])\n",
    "\n",
    "\n"
   ]
  },
  {
   "cell_type": "code",
   "execution_count": 29,
   "metadata": {},
   "outputs": [
    {
     "data": {
      "image/png": "[encoded data removed]",
      "text/plain": [
       "<Figure size 1080x720 with 9 Axes>"
      ]
     },
     "metadata": {
      "needs_background": "light"
     },
     "output_type": "display_data"
    }
   ],
   "source": [
    "plt.figure(figsize = (15, 10))\n",
    "\n",
    "for i in range(1, 10):\n",
    "    plt.subplot(3,3,i)\n",
    "    fig = df.boxplot(column = [numerical[i-1]])\n",
    "    fig.set_title(numerical[i-1])\n"
   ]
  },
  {
   "cell_type": "code",
   "execution_count": 38,
   "metadata": {},
   "outputs": [],
   "source": [
    "for i in numerical:\n",
    "    iqr = df[i].quantile(0.75) - df[i].quantile(0.25)\n",
    "    low = df[i].quantile(0.25) - (iqr * 1.5)\n",
    "    high = df[i].quantile(0.75) + (iqr * 1.5)\n",
    "    df[i] = np.where(df[i] > high, high, df[i])\n",
    "    df[i] = np.where(df[i] < low, low, df[i])"
   ]
  },
  {
   "cell_type": "code",
   "execution_count": 39,
   "metadata": {},
   "outputs": [
    {
     "data": {
      "image/png": "[encoded data removed]",
      "text/plain": [
       "<Figure size 1080x720 with 9 Axes>"
      ]
     },
     "metadata": {
      "needs_background": "light"
     },
     "output_type": "display_data"
    }
   ],
   "source": [
    "plt.figure(figsize = (15, 10))\n",
    "\n",
    "for i in range(1, 10):\n",
    "    plt.subplot(3,3,i)\n",
    "    fig = df.boxplot(column = [numerical[i-1]])\n",
    "    fig.set_title(numerical[i-1])\n"
   ]
  },
  {
   "cell_type": "code",
   "execution_count": 40,
   "metadata": {},
   "outputs": [],
   "source": [
    "x = df.drop(\"Type\", axis = 1)\n",
    "y = df[\"Type\"]"
   ]
  },
  {
   "cell_type": "code",
   "execution_count": 64,
   "metadata": {},
   "outputs": [],
   "source": [
    "from sklearn.model_selection import train_test_split\n",
    "\n",
    "xtrain, xtest, ytrain, ytest = train_test_split(x, y, random_state = 1)"
   ]
  },
  {
   "cell_type": "code",
   "execution_count": 65,
   "metadata": {},
   "outputs": [],
   "source": [
    "from sklearn.preprocessing import MinMaxScaler\n",
    "scalar = MinMaxScaler()\n",
    "\n",
    "xtrain = scalar.fit_transform(xtrain)\n",
    "xtest = scalar.transform(xtest)"
   ]
  },
  {
   "cell_type": "code",
   "execution_count": 66,
   "metadata": {},
   "outputs": [
    {
     "data": {
      "text/plain": [
       "GaussianNB(priors=None, var_smoothing=1e-09)"
      ]
     },
     "execution_count": 66,
     "metadata": {},
     "output_type": "execute_result"
    }
   ],
   "source": [
    "from sklearn.naive_bayes import GaussianNB\n",
    "\n",
    "\n",
    "# instantiate the model\n",
    "gnb = GaussianNB()\n",
    "\n",
    "\n",
    "# fit the model\n",
    "gnb.fit(xtrain, ytrain)"
   ]
  },
  {
   "cell_type": "code",
   "execution_count": 67,
   "metadata": {},
   "outputs": [
    {
     "data": {
      "text/plain": [
       "array([6., 6., 5., 5., 1., 1., 1., 1., 1., 1., 2., 1., 1., 1., 1., 5., 2.,\n",
       "       1., 1., 1., 1., 6., 6., 1., 1., 1., 2., 1., 2., 1., 5., 6., 1., 1.,\n",
       "       1., 2., 1., 1., 6., 1., 1., 6., 6., 1., 6., 1., 1., 1., 2., 6., 1.,\n",
       "       1., 2., 1.])"
      ]
     },
     "execution_count": 67,
     "metadata": {},
     "output_type": "execute_result"
    }
   ],
   "source": [
    "y_pred = gnb.predict(xtest)\n",
    "\n",
    "y_pred"
   ]
  },
  {
   "cell_type": "code",
   "execution_count": 68,
   "metadata": {},
   "outputs": [
    {
     "name": "stdout",
     "output_type": "stream",
     "text": [
      "Model accuracy score: 0.6296\n"
     ]
    }
   ],
   "source": [
    "from sklearn.metrics import accuracy_score\n",
    "\n",
    "print('Model accuracy score: {0:0.4f}'. format(accuracy_score(ytest, y_pred)))"
   ]
  },
  {
   "cell_type": "code",
   "execution_count": null,
   "metadata": {},
   "outputs": [],
   "source": []
  }
 ],
 "metadata": {
  "kernelspec": {
   "display_name": "Python 3",
   "language": "python",
   "name": "python3"
  },
  "language_info": {
   "codemirror_mode": {
    "name": "ipython",
    "version": 3
   },
   "file_extension": ".py",
   "mimetype": "text/x-python",
   "name": "python",
   "nbconvert_exporter": "python",
   "pygments_lexer": "ipython3",
   "version": "3.7.6"
  }
 },
 "nbformat": 4,
 "nbformat_minor": 4
}
