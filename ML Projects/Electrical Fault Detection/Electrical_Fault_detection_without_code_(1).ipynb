{
  "cells": [
    {
      "cell_type": "markdown",
      "metadata": {
        "id": "W3EatTY4VQ4S"
      },
      "source": [
        "# Electrical Fault detection"
      ]
    },
    {
      "cell_type": "markdown",
      "metadata": {
        "id": "yOPnc8tVVg_a"
      },
      "source": [
        "We have to predict faults in a power system."
      ]
    },
    {
      "cell_type": "markdown",
      "metadata": {
        "id": "DYUvjaFqVtKh"
      },
      "source": [
        "# Dataset Desciption\n",
        "\n",
        "The dataset contains one file \n",
        "\n",
        "detect_dataset.csv\n",
        "\n",
        "shape of the dataset is (12001, 9)\n",
        "\n",
        "# Columns in dataset\n",
        "\n",
        "there are seven columns\n",
        "\n",
        "'Output (S)',\n",
        "\n",
        "'Ia',\n",
        "\n",
        "'Ib',\n",
        "\n",
        "'Ic',\n",
        "\n",
        "'Va', \n",
        "\n",
        "'Vb', \n",
        "\n",
        "'Vc', \n",
        "\n",
        "'Unnamed: 7',\n",
        "\n",
        "'Unnamed: 8'\n",
        "\n",
        "Outputs - 0 (No-fault) or 1(Fault is present)"
      ]
    },
    {
      "cell_type": "code",
      "execution_count": 1,
      "metadata": {
        "id": "onJmI6AzieJL"
      },
      "outputs": [],
      "source": [
        "# Importing Necessary Libraries\n",
        "#importing necessary libraries\n",
        "#importing necessary libraries\n",
        "import pandas as pd\n",
        "import matplotlib.pyplot as plt\n",
        "import seaborn as sns\n",
        "import numpy as np\n",
        "from scipy.stats import norm\n",
        "from sklearn.preprocessing import StandardScaler\n",
        "from scipy import stats\n",
        "import warnings\n",
        "warnings.filterwarnings('ignore')\n",
        "%matplotlib inline\n",
        "from tqdm import tqdm"
      ]
    },
    {
      "cell_type": "code",
      "execution_count": 2,
      "metadata": {
        "colab": {
          "base_uri": "https://localhost:8080/"
        },
        "id": "iLNjmv7vlvNp",
        "outputId": "2ca38444-908b-4190-bb4b-f2533460efda"
      },
      "outputs": [
        {
          "output_type": "stream",
          "name": "stdout",
          "text": [
            "Mounted at /content/drive\n"
          ]
        }
      ],
      "source": [
        "from google.colab import drive\n",
        "drive.mount(\"/content/drive\")"
      ]
    },
    {
      "cell_type": "code",
      "execution_count": 47,
      "metadata": {
        "id": "t3U0ef3llvMd"
      },
      "outputs": [],
      "source": [
        "# Read csv file using pandas\n",
        "df = pd.read_csv(\"/content/drive/MyDrive/Colab Notebooks/Cloud-ML Projects/Electrical Fault Detection/detect_dataset.csv\")"
      ]
    },
    {
      "cell_type": "code",
      "execution_count": 48,
      "metadata": {
        "colab": {
          "base_uri": "https://localhost:8080/",
          "height": 206
        },
        "id": "yckoKHYilvJT",
        "outputId": "2b624cf5-e19c-433e-9448-cb7c06227459"
      },
      "outputs": [
        {
          "output_type": "execute_result",
          "data": {
            "text/plain": [
              "   Output (S)          Ia        Ib          Ic        Va        Vb        Vc  \\\n",
              "0           0 -170.472196  9.219613  161.252583  0.054490 -0.659921  0.605431   \n",
              "1           0 -122.235754  6.168667  116.067087  0.102000 -0.628612  0.526202   \n",
              "2           0  -90.161474  3.813632   86.347841  0.141026 -0.605277  0.464251   \n",
              "3           0  -79.904916  2.398803   77.506112  0.156272 -0.602235  0.445963   \n",
              "4           0  -63.885255  0.590667   63.294587  0.180451 -0.591501  0.411050   \n",
              "\n",
              "   Unnamed: 7  Unnamed: 8  \n",
              "0         NaN         NaN  \n",
              "1         NaN         NaN  \n",
              "2         NaN         NaN  \n",
              "3         NaN         NaN  \n",
              "4         NaN         NaN  "
            ],
            "text/html": [
              "\n",
              "  <div id=\"df-ced3eaa0-5ee4-4910-b44d-807143f6ee44\">\n",
              "    <div class=\"colab-df-container\">\n",
              "      <div>\n",
              "<style scoped>\n",
              "    .dataframe tbody tr th:only-of-type {\n",
              "        vertical-align: middle;\n",
              "    }\n",
              "\n",
              "    .dataframe tbody tr th {\n",
              "        vertical-align: top;\n",
              "    }\n",
              "\n",
              "    .dataframe thead th {\n",
              "        text-align: right;\n",
              "    }\n",
              "</style>\n",
              "<table border=\"1\" class=\"dataframe\">\n",
              "  <thead>\n",
              "    <tr style=\"text-align: right;\">\n",
              "      <th></th>\n",
              "      <th>Output (S)</th>\n",
              "      <th>Ia</th>\n",
              "      <th>Ib</th>\n",
              "      <th>Ic</th>\n",
              "      <th>Va</th>\n",
              "      <th>Vb</th>\n",
              "      <th>Vc</th>\n",
              "      <th>Unnamed: 7</th>\n",
              "      <th>Unnamed: 8</th>\n",
              "    </tr>\n",
              "  </thead>\n",
              "  <tbody>\n",
              "    <tr>\n",
              "      <th>0</th>\n",
              "      <td>0</td>\n",
              "      <td>-170.472196</td>\n",
              "      <td>9.219613</td>\n",
              "      <td>161.252583</td>\n",
              "      <td>0.054490</td>\n",
              "      <td>-0.659921</td>\n",
              "      <td>0.605431</td>\n",
              "      <td>NaN</td>\n",
              "      <td>NaN</td>\n",
              "    </tr>\n",
              "    <tr>\n",
              "      <th>1</th>\n",
              "      <td>0</td>\n",
              "      <td>-122.235754</td>\n",
              "      <td>6.168667</td>\n",
              "      <td>116.067087</td>\n",
              "      <td>0.102000</td>\n",
              "      <td>-0.628612</td>\n",
              "      <td>0.526202</td>\n",
              "      <td>NaN</td>\n",
              "      <td>NaN</td>\n",
              "    </tr>\n",
              "    <tr>\n",
              "      <th>2</th>\n",
              "      <td>0</td>\n",
              "      <td>-90.161474</td>\n",
              "      <td>3.813632</td>\n",
              "      <td>86.347841</td>\n",
              "      <td>0.141026</td>\n",
              "      <td>-0.605277</td>\n",
              "      <td>0.464251</td>\n",
              "      <td>NaN</td>\n",
              "      <td>NaN</td>\n",
              "    </tr>\n",
              "    <tr>\n",
              "      <th>3</th>\n",
              "      <td>0</td>\n",
              "      <td>-79.904916</td>\n",
              "      <td>2.398803</td>\n",
              "      <td>77.506112</td>\n",
              "      <td>0.156272</td>\n",
              "      <td>-0.602235</td>\n",
              "      <td>0.445963</td>\n",
              "      <td>NaN</td>\n",
              "      <td>NaN</td>\n",
              "    </tr>\n",
              "    <tr>\n",
              "      <th>4</th>\n",
              "      <td>0</td>\n",
              "      <td>-63.885255</td>\n",
              "      <td>0.590667</td>\n",
              "      <td>63.294587</td>\n",
              "      <td>0.180451</td>\n",
              "      <td>-0.591501</td>\n",
              "      <td>0.411050</td>\n",
              "      <td>NaN</td>\n",
              "      <td>NaN</td>\n",
              "    </tr>\n",
              "  </tbody>\n",
              "</table>\n",
              "</div>\n",
              "      <button class=\"colab-df-convert\" onclick=\"convertToInteractive('df-ced3eaa0-5ee4-4910-b44d-807143f6ee44')\"\n",
              "              title=\"Convert this dataframe to an interactive table.\"\n",
              "              style=\"display:none;\">\n",
              "        \n",
              "  <svg xmlns=\"http://www.w3.org/2000/svg\" height=\"24px\"viewBox=\"0 0 24 24\"\n",
              "       width=\"24px\">\n",
              "    <path d=\"M0 0h24v24H0V0z\" fill=\"none\"/>\n",
              "    <path d=\"M18.56 5.44l.94 2.06.94-2.06 2.06-.94-2.06-.94-.94-2.06-.94 2.06-2.06.94zm-11 1L8.5 8.5l.94-2.06 2.06-.94-2.06-.94L8.5 2.5l-.94 2.06-2.06.94zm10 10l.94 2.06.94-2.06 2.06-.94-2.06-.94-.94-2.06-.94 2.06-2.06.94z\"/><path d=\"M17.41 7.96l-1.37-1.37c-.4-.4-.92-.59-1.43-.59-.52 0-1.04.2-1.43.59L10.3 9.45l-7.72 7.72c-.78.78-.78 2.05 0 2.83L4 21.41c.39.39.9.59 1.41.59.51 0 1.02-.2 1.41-.59l7.78-7.78 2.81-2.81c.8-.78.8-2.07 0-2.86zM5.41 20L4 18.59l7.72-7.72 1.47 1.35L5.41 20z\"/>\n",
              "  </svg>\n",
              "      </button>\n",
              "      \n",
              "  <style>\n",
              "    .colab-df-container {\n",
              "      display:flex;\n",
              "      flex-wrap:wrap;\n",
              "      gap: 12px;\n",
              "    }\n",
              "\n",
              "    .colab-df-convert {\n",
              "      background-color: #E8F0FE;\n",
              "      border: none;\n",
              "      border-radius: 50%;\n",
              "      cursor: pointer;\n",
              "      display: none;\n",
              "      fill: #1967D2;\n",
              "      height: 32px;\n",
              "      padding: 0 0 0 0;\n",
              "      width: 32px;\n",
              "    }\n",
              "\n",
              "    .colab-df-convert:hover {\n",
              "      background-color: #E2EBFA;\n",
              "      box-shadow: 0px 1px 2px rgba(60, 64, 67, 0.3), 0px 1px 3px 1px rgba(60, 64, 67, 0.15);\n",
              "      fill: #174EA6;\n",
              "    }\n",
              "\n",
              "    [theme=dark] .colab-df-convert {\n",
              "      background-color: #3B4455;\n",
              "      fill: #D2E3FC;\n",
              "    }\n",
              "\n",
              "    [theme=dark] .colab-df-convert:hover {\n",
              "      background-color: #434B5C;\n",
              "      box-shadow: 0px 1px 3px 1px rgba(0, 0, 0, 0.15);\n",
              "      filter: drop-shadow(0px 1px 2px rgba(0, 0, 0, 0.3));\n",
              "      fill: #FFFFFF;\n",
              "    }\n",
              "  </style>\n",
              "\n",
              "      <script>\n",
              "        const buttonEl =\n",
              "          document.querySelector('#df-ced3eaa0-5ee4-4910-b44d-807143f6ee44 button.colab-df-convert');\n",
              "        buttonEl.style.display =\n",
              "          google.colab.kernel.accessAllowed ? 'block' : 'none';\n",
              "\n",
              "        async function convertToInteractive(key) {\n",
              "          const element = document.querySelector('#df-ced3eaa0-5ee4-4910-b44d-807143f6ee44');\n",
              "          const dataTable =\n",
              "            await google.colab.kernel.invokeFunction('convertToInteractive',\n",
              "                                                     [key], {});\n",
              "          if (!dataTable) return;\n",
              "\n",
              "          const docLinkHtml = 'Like what you see? Visit the ' +\n",
              "            '<a target=\"_blank\" href=https://colab.research.google.com/notebooks/data_table.ipynb>data table notebook</a>'\n",
              "            + ' to learn more about interactive tables.';\n",
              "          element.innerHTML = '';\n",
              "          dataTable['output_type'] = 'display_data';\n",
              "          await google.colab.output.renderOutput(dataTable, element);\n",
              "          const docLink = document.createElement('div');\n",
              "          docLink.innerHTML = docLinkHtml;\n",
              "          element.appendChild(docLink);\n",
              "        }\n",
              "      </script>\n",
              "    </div>\n",
              "  </div>\n",
              "  "
            ]
          },
          "metadata": {},
          "execution_count": 48
        }
      ],
      "source": [
        "df.head()"
      ]
    },
    {
      "cell_type": "markdown",
      "metadata": {
        "id": "174wyWpVWXHr"
      },
      "source": [
        "# basic EDA"
      ]
    },
    {
      "cell_type": "code",
      "execution_count": 49,
      "metadata": {
        "colab": {
          "base_uri": "https://localhost:8080/"
        },
        "id": "RDwkZbfflvIK",
        "outputId": "8a8c0242-286a-4090-af99-22ce4c46dfd0"
      },
      "outputs": [
        {
          "output_type": "execute_result",
          "data": {
            "text/plain": [
              "(12001, 9)"
            ]
          },
          "metadata": {},
          "execution_count": 49
        }
      ],
      "source": [
        "#check shape of the dataset\n",
        "df.shape"
      ]
    },
    {
      "cell_type": "code",
      "execution_count": 50,
      "metadata": {
        "colab": {
          "base_uri": "https://localhost:8080/"
        },
        "id": "7e8t0ue5lvEV",
        "outputId": "83faa73b-44b8-4b58-ed8f-5b3e3e653f81"
      },
      "outputs": [
        {
          "output_type": "execute_result",
          "data": {
            "text/plain": [
              "Index(['Output (S)', 'Ia', 'Ib', 'Ic', 'Va', 'Vb', 'Vc', 'Unnamed: 7',\n",
              "       'Unnamed: 8'],\n",
              "      dtype='object')"
            ]
          },
          "metadata": {},
          "execution_count": 50
        }
      ],
      "source": [
        "# check columns of dataset\n",
        "df.columns"
      ]
    },
    {
      "cell_type": "code",
      "execution_count": 51,
      "metadata": {
        "colab": {
          "base_uri": "https://localhost:8080/"
        },
        "id": "qmywjdE5SjwQ",
        "outputId": "97f4656a-ff5c-462f-cbfd-3aca7adba202"
      },
      "outputs": [
        {
          "output_type": "execute_result",
          "data": {
            "text/plain": [
              "12001"
            ]
          },
          "metadata": {},
          "execution_count": 51
        }
      ],
      "source": [
        "# check length of dataset\n",
        "df.shape[0]"
      ]
    },
    {
      "cell_type": "code",
      "execution_count": 52,
      "metadata": {
        "colab": {
          "base_uri": "https://localhost:8080/"
        },
        "id": "1bFLlxnlSgGc",
        "outputId": "37433f36-1bff-48f8-cb8d-4f34011c4e8f"
      },
      "outputs": [
        {
          "output_type": "stream",
          "name": "stdout",
          "text": [
            "<class 'pandas.core.frame.DataFrame'>\n",
            "RangeIndex: 12001 entries, 0 to 12000\n",
            "Data columns (total 9 columns):\n",
            " #   Column      Non-Null Count  Dtype  \n",
            "---  ------      --------------  -----  \n",
            " 0   Output (S)  12001 non-null  int64  \n",
            " 1   Ia          12001 non-null  float64\n",
            " 2   Ib          12001 non-null  float64\n",
            " 3   Ic          12001 non-null  float64\n",
            " 4   Va          12001 non-null  float64\n",
            " 5   Vb          12001 non-null  float64\n",
            " 6   Vc          12001 non-null  float64\n",
            " 7   Unnamed: 7  0 non-null      float64\n",
            " 8   Unnamed: 8  0 non-null      float64\n",
            "dtypes: float64(8), int64(1)\n",
            "memory usage: 843.9 KB\n"
          ]
        }
      ],
      "source": [
        "# Check which columns are having categorical, numerical or boolean values\n",
        "df.info()"
      ]
    },
    {
      "cell_type": "code",
      "execution_count": 53,
      "metadata": {
        "colab": {
          "base_uri": "https://localhost:8080/",
          "height": 300
        },
        "id": "WEEyYVD_lvDU",
        "outputId": "5f976567-edf8-4844-91a9-772b31483c7c"
      },
      "outputs": [
        {
          "output_type": "execute_result",
          "data": {
            "text/plain": [
              "         Output (S)            Ia            Ib            Ic            Va  \\\n",
              "count  12001.000000  12001.000000  12001.000000  12001.000000  12001.000000   \n",
              "mean       0.457962      6.709369    -26.557793     22.353043      0.010517   \n",
              "std        0.498250    377.158470    357.458613    302.052809      0.346221   \n",
              "min        0.000000   -883.542316   -900.526951   -883.357762     -0.620748   \n",
              "25%        0.000000    -64.348986    -51.421937    -54.562257     -0.237610   \n",
              "50%        0.000000     -3.239788      4.711283     -0.399419      0.002465   \n",
              "75%        1.000000     53.823453     69.637787     45.274542      0.285078   \n",
              "max        1.000000    885.738571    889.868884    901.274261      0.609864   \n",
              "\n",
              "                 Vb            Vc  Unnamed: 7  Unnamed: 8  \n",
              "count  12001.000000  12001.000000         0.0         0.0  \n",
              "mean      -0.015498      0.004980         NaN         NaN  \n",
              "std        0.357644      0.349272         NaN         NaN  \n",
              "min       -0.659921     -0.612709         NaN         NaN  \n",
              "25%       -0.313721     -0.278951         NaN         NaN  \n",
              "50%       -0.007192      0.008381         NaN         NaN  \n",
              "75%        0.248681      0.289681         NaN         NaN  \n",
              "max        0.627875      0.608243         NaN         NaN  "
            ],
            "text/html": [
              "\n",
              "  <div id=\"df-346ca017-b0a6-41bb-bd7c-1d492811d41a\">\n",
              "    <div class=\"colab-df-container\">\n",
              "      <div>\n",
              "<style scoped>\n",
              "    .dataframe tbody tr th:only-of-type {\n",
              "        vertical-align: middle;\n",
              "    }\n",
              "\n",
              "    .dataframe tbody tr th {\n",
              "        vertical-align: top;\n",
              "    }\n",
              "\n",
              "    .dataframe thead th {\n",
              "        text-align: right;\n",
              "    }\n",
              "</style>\n",
              "<table border=\"1\" class=\"dataframe\">\n",
              "  <thead>\n",
              "    <tr style=\"text-align: right;\">\n",
              "      <th></th>\n",
              "      <th>Output (S)</th>\n",
              "      <th>Ia</th>\n",
              "      <th>Ib</th>\n",
              "      <th>Ic</th>\n",
              "      <th>Va</th>\n",
              "      <th>Vb</th>\n",
              "      <th>Vc</th>\n",
              "      <th>Unnamed: 7</th>\n",
              "      <th>Unnamed: 8</th>\n",
              "    </tr>\n",
              "  </thead>\n",
              "  <tbody>\n",
              "    <tr>\n",
              "      <th>count</th>\n",
              "      <td>12001.000000</td>\n",
              "      <td>12001.000000</td>\n",
              "      <td>12001.000000</td>\n",
              "      <td>12001.000000</td>\n",
              "      <td>12001.000000</td>\n",
              "      <td>12001.000000</td>\n",
              "      <td>12001.000000</td>\n",
              "      <td>0.0</td>\n",
              "      <td>0.0</td>\n",
              "    </tr>\n",
              "    <tr>\n",
              "      <th>mean</th>\n",
              "      <td>0.457962</td>\n",
              "      <td>6.709369</td>\n",
              "      <td>-26.557793</td>\n",
              "      <td>22.353043</td>\n",
              "      <td>0.010517</td>\n",
              "      <td>-0.015498</td>\n",
              "      <td>0.004980</td>\n",
              "      <td>NaN</td>\n",
              "      <td>NaN</td>\n",
              "    </tr>\n",
              "    <tr>\n",
              "      <th>std</th>\n",
              "      <td>0.498250</td>\n",
              "      <td>377.158470</td>\n",
              "      <td>357.458613</td>\n",
              "      <td>302.052809</td>\n",
              "      <td>0.346221</td>\n",
              "      <td>0.357644</td>\n",
              "      <td>0.349272</td>\n",
              "      <td>NaN</td>\n",
              "      <td>NaN</td>\n",
              "    </tr>\n",
              "    <tr>\n",
              "      <th>min</th>\n",
              "      <td>0.000000</td>\n",
              "      <td>-883.542316</td>\n",
              "      <td>-900.526951</td>\n",
              "      <td>-883.357762</td>\n",
              "      <td>-0.620748</td>\n",
              "      <td>-0.659921</td>\n",
              "      <td>-0.612709</td>\n",
              "      <td>NaN</td>\n",
              "      <td>NaN</td>\n",
              "    </tr>\n",
              "    <tr>\n",
              "      <th>25%</th>\n",
              "      <td>0.000000</td>\n",
              "      <td>-64.348986</td>\n",
              "      <td>-51.421937</td>\n",
              "      <td>-54.562257</td>\n",
              "      <td>-0.237610</td>\n",
              "      <td>-0.313721</td>\n",
              "      <td>-0.278951</td>\n",
              "      <td>NaN</td>\n",
              "      <td>NaN</td>\n",
              "    </tr>\n",
              "    <tr>\n",
              "      <th>50%</th>\n",
              "      <td>0.000000</td>\n",
              "      <td>-3.239788</td>\n",
              "      <td>4.711283</td>\n",
              "      <td>-0.399419</td>\n",
              "      <td>0.002465</td>\n",
              "      <td>-0.007192</td>\n",
              "      <td>0.008381</td>\n",
              "      <td>NaN</td>\n",
              "      <td>NaN</td>\n",
              "    </tr>\n",
              "    <tr>\n",
              "      <th>75%</th>\n",
              "      <td>1.000000</td>\n",
              "      <td>53.823453</td>\n",
              "      <td>69.637787</td>\n",
              "      <td>45.274542</td>\n",
              "      <td>0.285078</td>\n",
              "      <td>0.248681</td>\n",
              "      <td>0.289681</td>\n",
              "      <td>NaN</td>\n",
              "      <td>NaN</td>\n",
              "    </tr>\n",
              "    <tr>\n",
              "      <th>max</th>\n",
              "      <td>1.000000</td>\n",
              "      <td>885.738571</td>\n",
              "      <td>889.868884</td>\n",
              "      <td>901.274261</td>\n",
              "      <td>0.609864</td>\n",
              "      <td>0.627875</td>\n",
              "      <td>0.608243</td>\n",
              "      <td>NaN</td>\n",
              "      <td>NaN</td>\n",
              "    </tr>\n",
              "  </tbody>\n",
              "</table>\n",
              "</div>\n",
              "      <button class=\"colab-df-convert\" onclick=\"convertToInteractive('df-346ca017-b0a6-41bb-bd7c-1d492811d41a')\"\n",
              "              title=\"Convert this dataframe to an interactive table.\"\n",
              "              style=\"display:none;\">\n",
              "        \n",
              "  <svg xmlns=\"http://www.w3.org/2000/svg\" height=\"24px\"viewBox=\"0 0 24 24\"\n",
              "       width=\"24px\">\n",
              "    <path d=\"M0 0h24v24H0V0z\" fill=\"none\"/>\n",
              "    <path d=\"M18.56 5.44l.94 2.06.94-2.06 2.06-.94-2.06-.94-.94-2.06-.94 2.06-2.06.94zm-11 1L8.5 8.5l.94-2.06 2.06-.94-2.06-.94L8.5 2.5l-.94 2.06-2.06.94zm10 10l.94 2.06.94-2.06 2.06-.94-2.06-.94-.94-2.06-.94 2.06-2.06.94z\"/><path d=\"M17.41 7.96l-1.37-1.37c-.4-.4-.92-.59-1.43-.59-.52 0-1.04.2-1.43.59L10.3 9.45l-7.72 7.72c-.78.78-.78 2.05 0 2.83L4 21.41c.39.39.9.59 1.41.59.51 0 1.02-.2 1.41-.59l7.78-7.78 2.81-2.81c.8-.78.8-2.07 0-2.86zM5.41 20L4 18.59l7.72-7.72 1.47 1.35L5.41 20z\"/>\n",
              "  </svg>\n",
              "      </button>\n",
              "      \n",
              "  <style>\n",
              "    .colab-df-container {\n",
              "      display:flex;\n",
              "      flex-wrap:wrap;\n",
              "      gap: 12px;\n",
              "    }\n",
              "\n",
              "    .colab-df-convert {\n",
              "      background-color: #E8F0FE;\n",
              "      border: none;\n",
              "      border-radius: 50%;\n",
              "      cursor: pointer;\n",
              "      display: none;\n",
              "      fill: #1967D2;\n",
              "      height: 32px;\n",
              "      padding: 0 0 0 0;\n",
              "      width: 32px;\n",
              "    }\n",
              "\n",
              "    .colab-df-convert:hover {\n",
              "      background-color: #E2EBFA;\n",
              "      box-shadow: 0px 1px 2px rgba(60, 64, 67, 0.3), 0px 1px 3px 1px rgba(60, 64, 67, 0.15);\n",
              "      fill: #174EA6;\n",
              "    }\n",
              "\n",
              "    [theme=dark] .colab-df-convert {\n",
              "      background-color: #3B4455;\n",
              "      fill: #D2E3FC;\n",
              "    }\n",
              "\n",
              "    [theme=dark] .colab-df-convert:hover {\n",
              "      background-color: #434B5C;\n",
              "      box-shadow: 0px 1px 3px 1px rgba(0, 0, 0, 0.15);\n",
              "      filter: drop-shadow(0px 1px 2px rgba(0, 0, 0, 0.3));\n",
              "      fill: #FFFFFF;\n",
              "    }\n",
              "  </style>\n",
              "\n",
              "      <script>\n",
              "        const buttonEl =\n",
              "          document.querySelector('#df-346ca017-b0a6-41bb-bd7c-1d492811d41a button.colab-df-convert');\n",
              "        buttonEl.style.display =\n",
              "          google.colab.kernel.accessAllowed ? 'block' : 'none';\n",
              "\n",
              "        async function convertToInteractive(key) {\n",
              "          const element = document.querySelector('#df-346ca017-b0a6-41bb-bd7c-1d492811d41a');\n",
              "          const dataTable =\n",
              "            await google.colab.kernel.invokeFunction('convertToInteractive',\n",
              "                                                     [key], {});\n",
              "          if (!dataTable) return;\n",
              "\n",
              "          const docLinkHtml = 'Like what you see? Visit the ' +\n",
              "            '<a target=\"_blank\" href=https://colab.research.google.com/notebooks/data_table.ipynb>data table notebook</a>'\n",
              "            + ' to learn more about interactive tables.';\n",
              "          element.innerHTML = '';\n",
              "          dataTable['output_type'] = 'display_data';\n",
              "          await google.colab.output.renderOutput(dataTable, element);\n",
              "          const docLink = document.createElement('div');\n",
              "          docLink.innerHTML = docLinkHtml;\n",
              "          element.appendChild(docLink);\n",
              "        }\n",
              "      </script>\n",
              "    </div>\n",
              "  </div>\n",
              "  "
            ]
          },
          "metadata": {},
          "execution_count": 53
        }
      ],
      "source": [
        "# For more information on the dataset like the total count in all the columns of train data\n",
        "# min, max values and more information of the respective columns \n",
        "df.describe()"
      ]
    },
    {
      "cell_type": "code",
      "execution_count": 54,
      "metadata": {
        "colab": {
          "base_uri": "https://localhost:8080/"
        },
        "id": "qR_KvwfZnqDh",
        "outputId": "ff987e74-67b0-4452-9eb0-34063f4510e8"
      },
      "outputs": [
        {
          "output_type": "execute_result",
          "data": {
            "text/plain": [
              "Output (S)        0\n",
              "Ia                0\n",
              "Ib                0\n",
              "Ic                0\n",
              "Va                0\n",
              "Vb                0\n",
              "Vc                0\n",
              "Unnamed: 7    12001\n",
              "Unnamed: 8    12001\n",
              "dtype: int64"
            ]
          },
          "metadata": {},
          "execution_count": 54
        }
      ],
      "source": [
        "# Check for missing values in all the columnns of the dataset\n",
        "df.isnull().sum()"
      ]
    },
    {
      "cell_type": "code",
      "execution_count": 55,
      "metadata": {
        "colab": {
          "base_uri": "https://localhost:8080/"
        },
        "id": "RHYBt6CzSn3L",
        "outputId": "d0d52f07-0d7f-4371-ce84-4ebf12b02924"
      },
      "outputs": [
        {
          "output_type": "stream",
          "name": "stdout",
          "text": [
            "Output (S) : 2\n",
            "Ia : 12001\n",
            "Ib : 12001\n",
            "Ic : 12001\n",
            "Va : 11996\n",
            "Vb : 11813\n",
            "Vc : 11987\n",
            "Unnamed: 7 : 0\n",
            "Unnamed: 8 : 0\n"
          ]
        }
      ],
      "source": [
        "# loop through datatset to find count of unique values of each column\n",
        "\n",
        "for i in df.columns:\n",
        "  print(\"{} : {}\".format(i, df[i].nunique()))"
      ]
    },
    {
      "cell_type": "code",
      "execution_count": 56,
      "metadata": {
        "id": "kC38hVyv-fyX"
      },
      "outputs": [],
      "source": [
        "# drop 'Unnamed: 7','Unnamed: 8'\n",
        "df.drop(['Unnamed: 7','Unnamed: 8'], axis = 1, inplace = True)"
      ]
    },
    {
      "cell_type": "code",
      "execution_count": 57,
      "metadata": {
        "colab": {
          "base_uri": "https://localhost:8080/"
        },
        "id": "Y3VNecxg-fuS",
        "outputId": "b46d1491-c0c0-43ea-e149-779a1cd3206d"
      },
      "outputs": [
        {
          "output_type": "execute_result",
          "data": {
            "text/plain": [
              "0    6505\n",
              "1    5496\n",
              "Name: Output (S), dtype: int64"
            ]
          },
          "metadata": {},
          "execution_count": 57
        }
      ],
      "source": [
        "# check total number of fault and no-fault instances\n",
        "df[\"Output (S)\"].value_counts()"
      ]
    },
    {
      "cell_type": "markdown",
      "metadata": {
        "id": "2tYBYcVMTXOe"
      },
      "source": [
        "# Correlation Matrix\n",
        "\n",
        "## Why?\n",
        "#### A correlation matrix is a table showing correlation coefficients between variables.\n",
        "\n",
        "### There are three broad reasons for computing a correlation matrix:\n",
        "\n",
        "  1. To summarize a large amount of data where the goal is to see patterns. In our example above, the observable pattern is that all the variables highly correlate with each other.\n",
        "  2. To input into other analyses. For example, people commonly use correlation matrixes as inputs for exploratory factor analysis, confirmatory factor analysis, structural equation models, and linear regression when excluding missing values pairwise.\n",
        "  3. As a diagnostic when checking other analyses. For example, with linear regression, a high amount of correlations suggests that the linear regression estimates will be unreliable."
      ]
    },
    {
      "cell_type": "code",
      "execution_count": 58,
      "metadata": {
        "colab": {
          "base_uri": "https://localhost:8080/",
          "height": 269
        },
        "id": "Txt0Rpe4CS_v",
        "outputId": "76cef6d1-fbda-417d-8fd9-6627cde8468c"
      },
      "outputs": [
        {
          "output_type": "execute_result",
          "data": {
            "text/plain": [
              "            Output (S)        Ia        Ib        Ic        Va        Vb  \\\n",
              "Output (S)    1.000000  0.039408 -0.134028  0.120044 -0.035377  0.012206   \n",
              "Ia            0.039408  1.000000 -0.375477 -0.275694  0.032598 -0.158207   \n",
              "Ib           -0.134028 -0.375477  1.000000 -0.530187 -0.027052  0.032248   \n",
              "Ic            0.120044 -0.275694 -0.530187  1.000000 -0.001813 -0.096194   \n",
              "Va           -0.035377  0.032598 -0.027052 -0.001813  1.000000 -0.507928   \n",
              "Vb            0.012206 -0.158207  0.032248 -0.096194 -0.507928  1.000000   \n",
              "Vc            0.022570  0.129686 -0.006205  0.100298 -0.471163 -0.520478   \n",
              "\n",
              "                  Vc  \n",
              "Output (S)  0.022570  \n",
              "Ia          0.129686  \n",
              "Ib         -0.006205  \n",
              "Ic          0.100298  \n",
              "Va         -0.471163  \n",
              "Vb         -0.520478  \n",
              "Vc          1.000000  "
            ],
            "text/html": [
              "\n",
              "  <div id=\"df-6f844274-1b09-4375-9ddc-48626401207b\">\n",
              "    <div class=\"colab-df-container\">\n",
              "      <div>\n",
              "<style scoped>\n",
              "    .dataframe tbody tr th:only-of-type {\n",
              "        vertical-align: middle;\n",
              "    }\n",
              "\n",
              "    .dataframe tbody tr th {\n",
              "        vertical-align: top;\n",
              "    }\n",
              "\n",
              "    .dataframe thead th {\n",
              "        text-align: right;\n",
              "    }\n",
              "</style>\n",
              "<table border=\"1\" class=\"dataframe\">\n",
              "  <thead>\n",
              "    <tr style=\"text-align: right;\">\n",
              "      <th></th>\n",
              "      <th>Output (S)</th>\n",
              "      <th>Ia</th>\n",
              "      <th>Ib</th>\n",
              "      <th>Ic</th>\n",
              "      <th>Va</th>\n",
              "      <th>Vb</th>\n",
              "      <th>Vc</th>\n",
              "    </tr>\n",
              "  </thead>\n",
              "  <tbody>\n",
              "    <tr>\n",
              "      <th>Output (S)</th>\n",
              "      <td>1.000000</td>\n",
              "      <td>0.039408</td>\n",
              "      <td>-0.134028</td>\n",
              "      <td>0.120044</td>\n",
              "      <td>-0.035377</td>\n",
              "      <td>0.012206</td>\n",
              "      <td>0.022570</td>\n",
              "    </tr>\n",
              "    <tr>\n",
              "      <th>Ia</th>\n",
              "      <td>0.039408</td>\n",
              "      <td>1.000000</td>\n",
              "      <td>-0.375477</td>\n",
              "      <td>-0.275694</td>\n",
              "      <td>0.032598</td>\n",
              "      <td>-0.158207</td>\n",
              "      <td>0.129686</td>\n",
              "    </tr>\n",
              "    <tr>\n",
              "      <th>Ib</th>\n",
              "      <td>-0.134028</td>\n",
              "      <td>-0.375477</td>\n",
              "      <td>1.000000</td>\n",
              "      <td>-0.530187</td>\n",
              "      <td>-0.027052</td>\n",
              "      <td>0.032248</td>\n",
              "      <td>-0.006205</td>\n",
              "    </tr>\n",
              "    <tr>\n",
              "      <th>Ic</th>\n",
              "      <td>0.120044</td>\n",
              "      <td>-0.275694</td>\n",
              "      <td>-0.530187</td>\n",
              "      <td>1.000000</td>\n",
              "      <td>-0.001813</td>\n",
              "      <td>-0.096194</td>\n",
              "      <td>0.100298</td>\n",
              "    </tr>\n",
              "    <tr>\n",
              "      <th>Va</th>\n",
              "      <td>-0.035377</td>\n",
              "      <td>0.032598</td>\n",
              "      <td>-0.027052</td>\n",
              "      <td>-0.001813</td>\n",
              "      <td>1.000000</td>\n",
              "      <td>-0.507928</td>\n",
              "      <td>-0.471163</td>\n",
              "    </tr>\n",
              "    <tr>\n",
              "      <th>Vb</th>\n",
              "      <td>0.012206</td>\n",
              "      <td>-0.158207</td>\n",
              "      <td>0.032248</td>\n",
              "      <td>-0.096194</td>\n",
              "      <td>-0.507928</td>\n",
              "      <td>1.000000</td>\n",
              "      <td>-0.520478</td>\n",
              "    </tr>\n",
              "    <tr>\n",
              "      <th>Vc</th>\n",
              "      <td>0.022570</td>\n",
              "      <td>0.129686</td>\n",
              "      <td>-0.006205</td>\n",
              "      <td>0.100298</td>\n",
              "      <td>-0.471163</td>\n",
              "      <td>-0.520478</td>\n",
              "      <td>1.000000</td>\n",
              "    </tr>\n",
              "  </tbody>\n",
              "</table>\n",
              "</div>\n",
              "      <button class=\"colab-df-convert\" onclick=\"convertToInteractive('df-6f844274-1b09-4375-9ddc-48626401207b')\"\n",
              "              title=\"Convert this dataframe to an interactive table.\"\n",
              "              style=\"display:none;\">\n",
              "        \n",
              "  <svg xmlns=\"http://www.w3.org/2000/svg\" height=\"24px\"viewBox=\"0 0 24 24\"\n",
              "       width=\"24px\">\n",
              "    <path d=\"M0 0h24v24H0V0z\" fill=\"none\"/>\n",
              "    <path d=\"M18.56 5.44l.94 2.06.94-2.06 2.06-.94-2.06-.94-.94-2.06-.94 2.06-2.06.94zm-11 1L8.5 8.5l.94-2.06 2.06-.94-2.06-.94L8.5 2.5l-.94 2.06-2.06.94zm10 10l.94 2.06.94-2.06 2.06-.94-2.06-.94-.94-2.06-.94 2.06-2.06.94z\"/><path d=\"M17.41 7.96l-1.37-1.37c-.4-.4-.92-.59-1.43-.59-.52 0-1.04.2-1.43.59L10.3 9.45l-7.72 7.72c-.78.78-.78 2.05 0 2.83L4 21.41c.39.39.9.59 1.41.59.51 0 1.02-.2 1.41-.59l7.78-7.78 2.81-2.81c.8-.78.8-2.07 0-2.86zM5.41 20L4 18.59l7.72-7.72 1.47 1.35L5.41 20z\"/>\n",
              "  </svg>\n",
              "      </button>\n",
              "      \n",
              "  <style>\n",
              "    .colab-df-container {\n",
              "      display:flex;\n",
              "      flex-wrap:wrap;\n",
              "      gap: 12px;\n",
              "    }\n",
              "\n",
              "    .colab-df-convert {\n",
              "      background-color: #E8F0FE;\n",
              "      border: none;\n",
              "      border-radius: 50%;\n",
              "      cursor: pointer;\n",
              "      display: none;\n",
              "      fill: #1967D2;\n",
              "      height: 32px;\n",
              "      padding: 0 0 0 0;\n",
              "      width: 32px;\n",
              "    }\n",
              "\n",
              "    .colab-df-convert:hover {\n",
              "      background-color: #E2EBFA;\n",
              "      box-shadow: 0px 1px 2px rgba(60, 64, 67, 0.3), 0px 1px 3px 1px rgba(60, 64, 67, 0.15);\n",
              "      fill: #174EA6;\n",
              "    }\n",
              "\n",
              "    [theme=dark] .colab-df-convert {\n",
              "      background-color: #3B4455;\n",
              "      fill: #D2E3FC;\n",
              "    }\n",
              "\n",
              "    [theme=dark] .colab-df-convert:hover {\n",
              "      background-color: #434B5C;\n",
              "      box-shadow: 0px 1px 3px 1px rgba(0, 0, 0, 0.15);\n",
              "      filter: drop-shadow(0px 1px 2px rgba(0, 0, 0, 0.3));\n",
              "      fill: #FFFFFF;\n",
              "    }\n",
              "  </style>\n",
              "\n",
              "      <script>\n",
              "        const buttonEl =\n",
              "          document.querySelector('#df-6f844274-1b09-4375-9ddc-48626401207b button.colab-df-convert');\n",
              "        buttonEl.style.display =\n",
              "          google.colab.kernel.accessAllowed ? 'block' : 'none';\n",
              "\n",
              "        async function convertToInteractive(key) {\n",
              "          const element = document.querySelector('#df-6f844274-1b09-4375-9ddc-48626401207b');\n",
              "          const dataTable =\n",
              "            await google.colab.kernel.invokeFunction('convertToInteractive',\n",
              "                                                     [key], {});\n",
              "          if (!dataTable) return;\n",
              "\n",
              "          const docLinkHtml = 'Like what you see? Visit the ' +\n",
              "            '<a target=\"_blank\" href=https://colab.research.google.com/notebooks/data_table.ipynb>data table notebook</a>'\n",
              "            + ' to learn more about interactive tables.';\n",
              "          element.innerHTML = '';\n",
              "          dataTable['output_type'] = 'display_data';\n",
              "          await google.colab.output.renderOutput(dataTable, element);\n",
              "          const docLink = document.createElement('div');\n",
              "          docLink.innerHTML = docLinkHtml;\n",
              "          element.appendChild(docLink);\n",
              "        }\n",
              "      </script>\n",
              "    </div>\n",
              "  </div>\n",
              "  "
            ]
          },
          "metadata": {},
          "execution_count": 58
        }
      ],
      "source": [
        "# Using pandas\n",
        "df.corr()"
      ]
    },
    {
      "cell_type": "markdown",
      "metadata": {
        "id": "XnEsWEEsTm-T"
      },
      "source": [
        "# Histogram\n",
        "\n",
        "1. A histogram is an approximate representation of the distribution of numerical data.\n",
        "\n",
        "2. To construct a histogram, the first step is to \"bin\" (or \"bucket\") the range of values—that is, divide the entire range of values into a series of intervals—and then count how many values fall into each interval.\n",
        "\n",
        "3. The words used to describe the patterns in a histogram are: \"symmetric\", \"skewed left\" or \"right\", \"unimodal\", \"bimodal\" or \"multimodal\"."
      ]
    },
    {
      "cell_type": "code",
      "execution_count": 59,
      "metadata": {
        "colab": {
          "base_uri": "https://localhost:8080/",
          "height": 784
        },
        "id": "IQ2N-BOlCS-X",
        "outputId": "663284af-6eba-4113-a56f-fc7f234d96bd"
      },
      "outputs": [
        {
          "output_type": "execute_result",
          "data": {
            "text/plain": [
              "array([[<matplotlib.axes._subplots.AxesSubplot object at 0x7fd420f3e490>,\n",
              "        <matplotlib.axes._subplots.AxesSubplot object at 0x7fd420f17910>,\n",
              "        <matplotlib.axes._subplots.AxesSubplot object at 0x7fd420e195d0>],\n",
              "       [<matplotlib.axes._subplots.AxesSubplot object at 0x7fd420e4fbd0>,\n",
              "        <matplotlib.axes._subplots.AxesSubplot object at 0x7fd420e11210>,\n",
              "        <matplotlib.axes._subplots.AxesSubplot object at 0x7fd420dc8810>],\n",
              "       [<matplotlib.axes._subplots.AxesSubplot object at 0x7fd420d7ce90>,\n",
              "        <matplotlib.axes._subplots.AxesSubplot object at 0x7fd420d41410>,\n",
              "        <matplotlib.axes._subplots.AxesSubplot object at 0x7fd420d41450>]],\n",
              "      dtype=object)"
            ]
          },
          "metadata": {},
          "execution_count": 59
        },
        {
          "output_type": "display_data",
          "data": {
            "text/plain": [
              "<Figure size 2160x1152 with 9 Axes>"
            ],
            "image/png": "[encoded data removed]"
          },
          "metadata": {
            "needs_background": "light"
          }
        }
      ],
      "source": [
        "df.hist(figsize = (30, 16))"
      ]
    },
    {
      "cell_type": "markdown",
      "metadata": {
        "id": "A9lQc6G_T6le"
      },
      "source": [
        "### Count plot"
      ]
    },
    {
      "cell_type": "code",
      "execution_count": 60,
      "metadata": {
        "colab": {
          "base_uri": "https://localhost:8080/",
          "height": 296
        },
        "id": "44nndj72Cjak",
        "outputId": "da726ff1-f2e9-4a9d-c1b9-0e744fc66a62"
      },
      "outputs": [
        {
          "output_type": "execute_result",
          "data": {
            "text/plain": [
              "<matplotlib.axes._subplots.AxesSubplot at 0x7fd420a673d0>"
            ]
          },
          "metadata": {},
          "execution_count": 60
        },
        {
          "output_type": "display_data",
          "data": {
            "text/plain": [
              "<Figure size 432x288 with 1 Axes>"
            ],
            "image/png": "[encoded data removed]"
          },
          "metadata": {
            "needs_background": "light"
          }
        }
      ],
      "source": [
        "# count plot of Output (S) column\n",
        "sns.countplot(df[\"Output (S)\"])"
      ]
    },
    {
      "cell_type": "markdown",
      "metadata": {
        "id": "TqaIURlaT_e2"
      },
      "source": [
        "# Box plot\n",
        "\n",
        "\n",
        "A boxplot is a standardized way of displaying the dataset based on a five-number summary:\n",
        "\n",
        "    1. Minimum (Q0 or 0th percentile): the lowest data point excluding any outliers.\n",
        "\n",
        "    2. Maximum (Q4 or 100th percentile): the largest data point excluding any outliers.\n",
        "\n",
        "    3. Median (Q2 or 50th percentile): the middle value of the dataset.\n",
        "\n",
        "    4. First quartile (Q1 or 25th percentile): also known as the lower quartile qn(0.25), is the median of the lower half of the dataset.\n",
        "\n",
        "    5. Third quartile (Q3 or 75th percentile): also known as the upper quartile qn(0.75), is the median of the upper half of the dataset"
      ]
    },
    {
      "cell_type": "code",
      "execution_count": 61,
      "metadata": {
        "colab": {
          "base_uri": "https://localhost:8080/",
          "height": 500
        },
        "id": "OwU1rU-KCjDn",
        "outputId": "23c350a7-cbd7-4e0d-89c1-6bac92fb0398"
      },
      "outputs": [
        {
          "output_type": "execute_result",
          "data": {
            "text/plain": [
              "<matplotlib.axes._subplots.AxesSubplot at 0x7fd420a403d0>"
            ]
          },
          "metadata": {},
          "execution_count": 61
        },
        {
          "output_type": "display_data",
          "data": {
            "text/plain": [
              "<Figure size 1080x576 with 1 Axes>"
            ],
            "image/png": "[encoded data removed]"
          },
          "metadata": {
            "needs_background": "light"
          }
        }
      ],
      "source": [
        "# box plot using pandas \n",
        "# box plot for Output (S) column \n",
        "df.boxplot(\"Output (S)\", figsize = (15, 8), grid = False)\n"
      ]
    },
    {
      "cell_type": "code",
      "execution_count": 62,
      "metadata": {
        "colab": {
          "base_uri": "https://localhost:8080/",
          "height": 500
        },
        "id": "Ri4cEZKrDDk1",
        "outputId": "1226f7e1-cf28-4a62-c281-87ff6565576b"
      },
      "outputs": [
        {
          "output_type": "execute_result",
          "data": {
            "text/plain": [
              "<matplotlib.axes._subplots.AxesSubplot at 0x7fd4209a67d0>"
            ]
          },
          "metadata": {},
          "execution_count": 62
        },
        {
          "output_type": "display_data",
          "data": {
            "text/plain": [
              "<Figure size 1080x576 with 1 Axes>"
            ],
            "image/png": "[encoded data removed]"
          },
          "metadata": {
            "needs_background": "light"
          }
        }
      ],
      "source": [
        "# box plot using pandas \n",
        "# box plot for Ia column \n",
        "df.boxplot(\"Ia\", figsize = (15, 8), grid = False)\n",
        "\n"
      ]
    },
    {
      "cell_type": "code",
      "execution_count": 63,
      "metadata": {
        "colab": {
          "base_uri": "https://localhost:8080/",
          "height": 500
        },
        "id": "iATUk1TjDDiU",
        "outputId": "380de984-0bae-4786-da6e-1ccb9b9056a5"
      },
      "outputs": [
        {
          "output_type": "execute_result",
          "data": {
            "text/plain": [
              "<matplotlib.axes._subplots.AxesSubplot at 0x7fd42098f790>"
            ]
          },
          "metadata": {},
          "execution_count": 63
        },
        {
          "output_type": "display_data",
          "data": {
            "text/plain": [
              "<Figure size 1080x576 with 1 Axes>"
            ],
            "image/png": "[encoded data removed]"
          },
          "metadata": {
            "needs_background": "light"
          }
        }
      ],
      "source": [
        "# box plot using pandas \n",
        "# box plot for Ib column \n",
        "\n",
        "df.boxplot(\"Ib\", figsize = (15, 8), grid = False)\n"
      ]
    },
    {
      "cell_type": "code",
      "execution_count": 64,
      "metadata": {
        "colab": {
          "base_uri": "https://localhost:8080/",
          "height": 500
        },
        "id": "rJQv1P0hDDe2",
        "outputId": "51449b84-aa4f-43ea-b944-b7d2fd936ceb"
      },
      "outputs": [
        {
          "output_type": "execute_result",
          "data": {
            "text/plain": [
              "<matplotlib.axes._subplots.AxesSubplot at 0x7fd4208b4750>"
            ]
          },
          "metadata": {},
          "execution_count": 64
        },
        {
          "output_type": "display_data",
          "data": {
            "text/plain": [
              "<Figure size 1080x576 with 1 Axes>"
            ],
            "image/png": "[encoded data removed]"
          },
          "metadata": {
            "needs_background": "light"
          }
        }
      ],
      "source": [
        "# box plot using pandas \n",
        "# box plot for Ic column \n",
        "df.boxplot(\"Ic\", figsize = (15, 8), grid = False)\n",
        "\n"
      ]
    },
    {
      "cell_type": "code",
      "execution_count": 65,
      "metadata": {
        "colab": {
          "base_uri": "https://localhost:8080/",
          "height": 500
        },
        "id": "26iWjxk3DDdf",
        "outputId": "b66049bc-2e1d-4318-9c93-eef2fb5b044f"
      },
      "outputs": [
        {
          "output_type": "execute_result",
          "data": {
            "text/plain": [
              "<matplotlib.axes._subplots.AxesSubplot at 0x7fd4207e3110>"
            ]
          },
          "metadata": {},
          "execution_count": 65
        },
        {
          "output_type": "display_data",
          "data": {
            "text/plain": [
              "<Figure size 1080x576 with 1 Axes>"
            ],
            "image/png": "[encoded data removed]"
          },
          "metadata": {
            "needs_background": "light"
          }
        }
      ],
      "source": [
        "# box plot using pandas \n",
        "# box plot for Va column \n",
        "\n",
        "df.boxplot(\"Va\", figsize = (15, 8), grid = False)\n"
      ]
    },
    {
      "cell_type": "code",
      "execution_count": 66,
      "metadata": {
        "colab": {
          "base_uri": "https://localhost:8080/",
          "height": 500
        },
        "id": "OqafrG7oDDa8",
        "outputId": "de8b9b42-4a09-4df1-ab13-0b8d539baf47"
      },
      "outputs": [
        {
          "output_type": "execute_result",
          "data": {
            "text/plain": [
              "<matplotlib.axes._subplots.AxesSubplot at 0x7fd42098af50>"
            ]
          },
          "metadata": {},
          "execution_count": 66
        },
        {
          "output_type": "display_data",
          "data": {
            "text/plain": [
              "<Figure size 1080x576 with 1 Axes>"
            ],
            "image/png": "[encoded data removed]"
          },
          "metadata": {
            "needs_background": "light"
          }
        }
      ],
      "source": [
        "# box plot using pandas \n",
        "# box plot for Vb column \n",
        "\n",
        "df.boxplot(\"Vb\", figsize = (15, 8), grid = False)\n"
      ]
    },
    {
      "cell_type": "code",
      "execution_count": 67,
      "metadata": {
        "colab": {
          "base_uri": "https://localhost:8080/",
          "height": 500
        },
        "id": "k0ZMrofFDDYt",
        "outputId": "453a6014-4873-477a-bf4f-b3b03d6d92b4"
      },
      "outputs": [
        {
          "output_type": "execute_result",
          "data": {
            "text/plain": [
              "<matplotlib.axes._subplots.AxesSubplot at 0x7fd4206f6210>"
            ]
          },
          "metadata": {},
          "execution_count": 67
        },
        {
          "output_type": "display_data",
          "data": {
            "text/plain": [
              "<Figure size 1080x576 with 1 Axes>"
            ],
            "image/png": "[encoded data removed]"
          },
          "metadata": {
            "needs_background": "light"
          }
        }
      ],
      "source": [
        "# box plot using pandas \n",
        "# box plot for Vc column \n",
        "\n",
        "df.boxplot(\"Vc\", figsize = (15, 8), grid = False)\n"
      ]
    },
    {
      "cell_type": "markdown",
      "metadata": {
        "id": "jh9Q36xXZAeq"
      },
      "source": [
        "Dataset is balanced and not skewed in nature"
      ]
    },
    {
      "cell_type": "markdown",
      "metadata": {
        "id": "VoN41RlaUG_Y"
      },
      "source": [
        "# Dendrogram"
      ]
    },
    {
      "cell_type": "code",
      "execution_count": 68,
      "metadata": {
        "colab": {
          "base_uri": "https://localhost:8080/",
          "height": 592
        },
        "id": "_r5MsTqWDDU-",
        "outputId": "5ff8dbe0-2829-4e56-c9ab-534e100541e5"
      },
      "outputs": [
        {
          "output_type": "display_data",
          "data": {
            "text/plain": [
              "<Figure size 1152x720 with 1 Axes>"
            ],
            "image/png": "[encoded data removed]"
          },
          "metadata": {
            "needs_background": "light"
          }
        }
      ],
      "source": [
        "# Plot a Dendrogram on the columns of the dataset\n",
        "\n",
        "# droping the NaN values\n",
        "# Plot a Dendrogram on the columns of the dataset\n",
        "\n",
        "# droping the NaN values\n",
        "X = df.dropna()\n",
        "\n",
        "import scipy\n",
        "from scipy.cluster import hierarchy as hc\n",
        "# import scipy, hierarchy as hc\n",
        "\n",
        "\n",
        "\n",
        "corr = np.round(scipy.stats.spearmanr(X).correlation, 4)\n",
        "corr_condensed = hc.distance.squareform(1 - corr)\n",
        "z = hc.linkage(corr_condensed, method = \"average\")\n",
        "fig = plt.figure(figsize = (16, 10))\n",
        "dendrogram = hc.dendrogram(z, labels = X.columns,orientation = \"left\", leaf_font_size = 16)\n",
        "plt.show()\n",
        "\n"
      ]
    },
    {
      "cell_type": "markdown",
      "metadata": {
        "id": "iNvxoKcNUX3H"
      },
      "source": [
        "# Preprocessing, Modeling and prediction on test data"
      ]
    },
    {
      "cell_type": "code",
      "execution_count": 69,
      "metadata": {
        "colab": {
          "base_uri": "https://localhost:8080/"
        },
        "id": "all5bN2N-fou",
        "outputId": "340d7892-9576-48e5-b777-a8fb822bb2b8"
      },
      "outputs": [
        {
          "output_type": "execute_result",
          "data": {
            "text/plain": [
              "((12001, 6), (12001,))"
            ]
          },
          "metadata": {},
          "execution_count": 69
        }
      ],
      "source": [
        "## Split the labels and the target\n",
        "X = df.drop(\"Output (S)\", axis = 1)\n",
        "y = df[\"Output (S)\"]\n",
        "#check the shape \n",
        "X.shape, y.shape"
      ]
    },
    {
      "cell_type": "code",
      "execution_count": 70,
      "metadata": {
        "colab": {
          "base_uri": "https://localhost:8080/"
        },
        "id": "6-r_W-3k-flM",
        "outputId": "c8a33edc-2da4-4b8c-fc81-a983f993faca"
      },
      "outputs": [
        {
          "output_type": "stream",
          "name": "stdout",
          "text": [
            "(9600, 6) (9600,)\n"
          ]
        },
        {
          "output_type": "execute_result",
          "data": {
            "text/plain": [
              "((2401, 6), (2401,))"
            ]
          },
          "metadata": {},
          "execution_count": 70
        }
      ],
      "source": [
        "# import train test split\n",
        "from sklearn.model_selection import train_test_split\n",
        "# Split into training (80%) and testing set (20%)\n",
        "X_train, X_test, y_train, y_test = train_test_split(X, y, test_size = 0.2, random_state = 42)\n",
        "\n",
        "# check shape of X_train and y_train\n",
        "print(X_train.shape, y_train.shape)\n",
        "\n",
        "# check shape of X_test and y_test\n",
        "X_test.shape, y_test.shape\n"
      ]
    },
    {
      "cell_type": "markdown",
      "metadata": {
        "id": "JZ5YmmuoUk_8"
      },
      "source": [
        "### Scaling"
      ]
    },
    {
      "cell_type": "code",
      "execution_count": 71,
      "metadata": {
        "id": "HQmvIGL8-fj_"
      },
      "outputs": [],
      "source": [
        "# import min max scalar\n",
        "from sklearn.preprocessing import MinMaxScaler\n",
        "\n",
        "# Instantiate t\n",
        "t = MinMaxScaler()\n",
        "\n",
        "# fit on train data\n",
        "X_train = t.fit_transform(X_train)\n",
        "\n",
        "# fit on test data\n",
        "X_test = t.transform(X_test)"
      ]
    },
    {
      "cell_type": "code",
      "execution_count": 81,
      "metadata": {
        "id": "UZCxM1BcwbFT"
      },
      "outputs": [],
      "source": [
        "def visualize_importance(feature_importances, feat_train_df):\n",
        "    # creating dataframe for feature name and feature importance\n",
        "    feature_importance_df = pd.DataFrame()\n",
        "\n",
        "    _df = pd.DataFrame()\n",
        "    _df['feature_importance'] = feature_importances\n",
        "    _df['column'] = feat_train_df.columns\n",
        "    feature_importance_df = pd.concat([feature_importance_df, _df], axis = 0, ignore_index = True)\n",
        "    \n",
        "                               \n",
        "    \n",
        "    # grouping all data and sorting in descending order\n",
        "    order = feature_importance_df.groupby(\"column\").sum()[[\"feature_importance\"]].sort_values(\"feature_importance\", ascending = False).index[:50]\n",
        "\n",
        "    \n",
        "    # ploting feature importance data using boxenplot\n",
        "    fig, ax = plt.subplots(figsize = (8, max(6, len(order) * 0.25)))\n",
        "    sns.boxenplot(data = feature_importance_df, x = \"feature_importance\", y = \"column\", ax= ax, order = order, palette = \"viridis\", orient = \"h\")\n",
        "    ax.tick_params(axis = \"x\", rotation = 0)\n",
        "    ax.set_title(\"Importance\")\n",
        "    ax.grid()\n",
        "    fig.tight_layout()\n",
        "    return fig, ax\n",
        "    "
      ]
    },
    {
      "cell_type": "code",
      "execution_count": 82,
      "metadata": {
        "id": "D10N3U1lLxQB"
      },
      "outputs": [],
      "source": [
        "from sklearn.metrics import accuracy_score, precision_score, precision_score, confusion_matrix, recall_score\n",
        "\n"
      ]
    },
    {
      "cell_type": "markdown",
      "metadata": {
        "id": "TX3S-qx5Uvzq"
      },
      "source": [
        "## LogisticRegression"
      ]
    },
    {
      "cell_type": "code",
      "execution_count": 83,
      "metadata": {
        "colab": {
          "base_uri": "https://localhost:8080/",
          "height": 828
        },
        "id": "z8IKjUjhwbAt",
        "outputId": "089c5e4d-8266-4f39-ea4a-f7a3449f9072"
      },
      "outputs": [
        {
          "output_type": "stream",
          "name": "stdout",
          "text": [
            "accuracy_score:  0.7338608912952936\n",
            "precision _score 0.41643835616438357\n",
            "recall_score 1.0\n",
            "[[1306  639]\n",
            " [   0  456]]\n",
            "CPU times: user 269 ms, sys: 204 ms, total: 473 ms\n",
            "Wall time: 400 ms\n"
          ]
        },
        {
          "output_type": "display_data",
          "data": {
            "text/plain": [
              "<Figure size 576x432 with 1 Axes>"
            ],
            "image/png": "[encoded data removed]"
          },
          "metadata": {
            "needs_background": "light"
          }
        },
        {
          "output_type": "display_data",
          "data": {
            "text/plain": [
              "<Figure size 432x288 with 2 Axes>"
            ],
            "image/png": "[encoded data removed]"
          },
          "metadata": {
            "needs_background": "light"
          }
        }
      ],
      "source": [
        "%%time\n",
        "# Fit a Log istic Regression model to the train dataset\n",
        "from sklearn import metrics\n",
        "# Import Log isticRegressor\n",
        "from sklearn.linear_model import LogisticRegression\n",
        "\n",
        "# Instantiate the model\n",
        "log_class = LogisticRegression()\n",
        "\n",
        "# fitting the model on train data\n",
        "log_class.fit(X_train, y_train)\n",
        "\n",
        "#predict on test data\n",
        "y_pred_log = log_class.predict(X_test)\n",
        "\n",
        "# prin t accuracy_score ,precisi on_score,precision_score,confusion_matrix\n",
        "print(\"accuracy_score: \", accuracy_score(y_pred_log, y_test))\n",
        "print(\"precision _score\" , precision_score(y_pred_log, y_test))\n",
        "print(\"recall_score\" , recall_score(y_pred_log, y_test))\n",
        "print(confusion_matrix(y_pred_log,y_test))\n",
        "\n",
        "# visualizing importance of features\n",
        "fig, ax = visualize_importance(log_class.coef_[0], X)\n",
        "\n",
        "# display confusion matrix\n",
        "disp = metrics.plot_confusion_matrix(log_class, X_test, y_test,cmap= plt.cm.Blues, normalize= 'true')\n"
      ]
    },
    {
      "cell_type": "markdown",
      "metadata": {
        "id": "jMuXcH7vU0lG"
      },
      "source": [
        "## RandomForestClassifier"
      ]
    },
    {
      "cell_type": "code",
      "execution_count": 91,
      "metadata": {
        "colab": {
          "base_uri": "https://localhost:8080/",
          "height": 828
        },
        "id": "orHP9CXNwa_b",
        "outputId": "9fc18ec8-9a9d-4aef-d376-ffb308d6b534"
      },
      "outputs": [
        {
          "output_type": "stream",
          "name": "stdout",
          "text": [
            "accuracy_score:  0.9979175343606831\n",
            "precision _score 0.9990867579908675\n",
            "recall_score 0.9963570127504554\n",
            "[[1302    1]\n",
            " [   4 1094]]\n",
            "CPU times: user 2.82 s, sys: 64.1 ms, total: 2.89 s\n",
            "Wall time: 2.83 s\n"
          ]
        },
        {
          "output_type": "display_data",
          "data": {
            "text/plain": [
              "<Figure size 576x432 with 1 Axes>"
            ],
            "image/png": "[encoded data removed]"
          },
          "metadata": {
            "needs_background": "light"
          }
        },
        {
          "output_type": "display_data",
          "data": {
            "text/plain": [
              "<Figure size 432x288 with 2 Axes>"
            ],
            "image/png": "[encoded data removed]"
          },
          "metadata": {
            "needs_background": "light"
          }
        }
      ],
      "source": [
        "%%time\n",
        "# Fit a RandomForestClassifier model to the train dataset\n",
        "\n",
        "#import RandomForestClassifier\n",
        "from sklearn.ensemble import RandomForestClassifier\n",
        "\n",
        "# Instantiate the model\n",
        "rf = RandomForestClassifier(n_estimators = 200, max_depth = 40)\n",
        "\n",
        "# fitting the model on train data\n",
        "rf.fit(X_train, y_train)\n",
        "\n",
        "# predict on test data\n",
        "y_pred_rf = rf.predict(X_test)\n",
        "\n",
        "# print accuracy_score,precision_score,precision_score,confusion_matrix\n",
        "print(\"accuracy_score: \", accuracy_score(y_pred_rf, y_test))\n",
        "print(\"precision _score\" , precision_score(y_pred_rf, y_test))\n",
        "print(\"recall_score\" , recall_score(y_pred_rf, y_test))\n",
        "print(confusion_matrix(y_pred_rf,y_test))\n",
        "\n",
        "# visualizing importance of features\n",
        "fig, ax = visualize_importance(log_class.coef_[0], X)\n",
        "\n",
        "# display confusion matrix\n",
        "disp = metrics.plot_confusion_matrix(log_class, X_test, y_test,cmap= plt.cm.Blues, normalize= 'true')\n"
      ]
    },
    {
      "cell_type": "markdown",
      "metadata": {
        "id": "boAQ9dIRU3Xd"
      },
      "source": [
        "## DecisionTreeClassifier"
      ]
    },
    {
      "cell_type": "code",
      "execution_count": 92,
      "metadata": {
        "colab": {
          "base_uri": "https://localhost:8080/",
          "height": 828
        },
        "id": "Hc3mwALPwa7-",
        "outputId": "62c4f44c-f224-437a-f037-3478e1b34a62"
      },
      "outputs": [
        {
          "output_type": "stream",
          "name": "stdout",
          "text": [
            "accuracy_score:  0.9958350687213661\n",
            "precision _score 0.9963470319634703\n",
            "recall_score 0.9945305378304466\n",
            "[[1300    4]\n",
            " [   6 1091]]\n",
            "CPU times: user 189 ms, sys: 42.5 ms, total: 232 ms\n",
            "Wall time: 182 ms\n"
          ]
        },
        {
          "output_type": "display_data",
          "data": {
            "text/plain": [
              "<Figure size 576x432 with 1 Axes>"
            ],
            "image/png": "[encoded data removed]"
          },
          "metadata": {
            "needs_background": "light"
          }
        },
        {
          "output_type": "display_data",
          "data": {
            "text/plain": [
              "<Figure size 432x288 with 2 Axes>"
            ],
            "image/png": "[encoded data removed]"
          },
          "metadata": {
            "needs_background": "light"
          }
        }
      ],
      "source": [
        "%%time\n",
        "# Fit a DecisionTreeClassifier model to the train dataset\n",
        "\n",
        "#import DecisionTreeClassifier\n",
        "from sklearn.tree import DecisionTreeClassifier\n",
        "\n",
        "# Instantiate the model\n",
        "dt = DecisionTreeClassifier()\n",
        "\n",
        "# fitting the model on train data\n",
        "dt.fit(X_train, y_train)\n",
        "\n",
        "# predict on test data\n",
        "y_pred = dt.predict(X_test)\n",
        "\n",
        "# print accuracy_score,precision_score,precision_score,confusion_matrix\n",
        "print(\"accuracy_score: \", accuracy_score(y_pred, y_test))\n",
        "print(\"precision _score\" , precision_score(y_pred, y_test))\n",
        "print(\"recall_score\" , recall_score(y_pred, y_test))\n",
        "print(confusion_matrix(y_pred,y_test))\n",
        "\n",
        "# visualizing importance of features\n",
        "fig, ax = visualize_importance(log_class.coef_[0], X)\n",
        "\n",
        "# display confusion matrix\n",
        "disp = metrics.plot_confusion_matrix(log_class, X_test, y_test,cmap= plt.cm.Blues, normalize= 'true')\n",
        "\n"
      ]
    },
    {
      "cell_type": "markdown",
      "metadata": {
        "id": "GManaGfgU7io"
      },
      "source": [
        "## GradientBoostingClassifier"
      ]
    },
    {
      "cell_type": "code",
      "execution_count": 93,
      "metadata": {
        "colab": {
          "base_uri": "https://localhost:8080/",
          "height": 828
        },
        "id": "yDuLFGFEwa6i",
        "outputId": "34d74c79-357d-48f4-ad06-5f2d1b821303"
      },
      "outputs": [
        {
          "output_type": "stream",
          "name": "stdout",
          "text": [
            "accuracy_score:  0.9979175343606831\n",
            "precision _score 0.9990867579908675\n",
            "recall_score 0.9963570127504554\n",
            "[[1302    1]\n",
            " [   4 1094]]\n",
            "CPU times: user 2.38 s, sys: 55.6 ms, total: 2.43 s\n",
            "Wall time: 2.37 s\n"
          ]
        },
        {
          "output_type": "display_data",
          "data": {
            "text/plain": [
              "<Figure size 576x432 with 1 Axes>"
            ],
            "image/png": "[encoded data removed]"
          },
          "metadata": {
            "needs_background": "light"
          }
        },
        {
          "output_type": "display_data",
          "data": {
            "text/plain": [
              "<Figure size 432x288 with 2 Axes>"
            ],
            "image/png": "[encoded data removed]"
          },
          "metadata": {
            "needs_background": "light"
          }
        }
      ],
      "source": [
        "%%time\n",
        "# Fit a Gradient Boosting Classifier model to the train dataset\n",
        "\n",
        "# Import GradientBoostingClassifier\n",
        "from sklearn.ensemble import GradientBoostingClassifier\n",
        "\n",
        "# Instantiate the model\n",
        "gb = GradientBoostingClassifier()\n",
        "\n",
        "# fitting the model on train data\n",
        "gb.fit(X_train, y_train)\n",
        "\n",
        "# predict on test data\n",
        "y_pred_gb = gb.predict(X_test)\n",
        "\n",
        "# print accuracy_score,precision_score,precision_score,confusion_matrix\n",
        "print(\"accuracy_score: \", accuracy_score(y_pred_gb, y_test))\n",
        "print(\"precision _score\" , precision_score(y_pred_gb, y_test))\n",
        "print(\"recall_score\" , recall_score(y_pred_gb, y_test))\n",
        "print(confusion_matrix(y_pred_gb,y_test))\n",
        "\n",
        "# visualizing importance of features\n",
        "fig, ax = visualize_importance(log_class.coef_[0], X)\n",
        "\n",
        "# display confusion matrix\n",
        "disp = metrics.plot_confusion_matrix(log_class, X_test, y_test,cmap= plt.cm.Blues, normalize= 'true')\n"
      ]
    },
    {
      "cell_type": "markdown",
      "metadata": {
        "id": "h-SaINO6YrZe"
      },
      "source": [
        "## Hyper parameter tunning\n",
        "\n",
        "A hyperparameter is a parameter whose value is set before the learning process begins.\n",
        "\n",
        "Hyperparameters tuning is crucial as they control the overall behavior of a machine learning model.\n",
        "\n",
        "Every machine learning models will have different hyperparameters that can be set.\n",
        "\n",
        "###RandomizedSearchCV\n",
        "\n",
        "RandomizedSearchCV is very useful when we have many parameters to try and the training time is very long.\n",
        "\n",
        "1. The first step is to write the parameters that we want to consider\n",
        "2. From these parameters select the best ones.(which are printed in output)"
      ]
    },
    {
      "cell_type": "code",
      "execution_count": 94,
      "metadata": {
        "id": "NOC29Wj5YbCO"
      },
      "outputs": [],
      "source": [
        "# Helper function to perform hyper parameter tunning with RandomizedSearchCV\n",
        "def random_Search(model,X_train, Y_train,param_grid):\n",
        "    from sklearn.model_selection import RandomizedSearchCV\n",
        "\n",
        "    # Random search of parameters, using 3 fold cross validation, \n",
        "    # search across 100 different combinations, and use all available cores\n",
        "    # Fit the random search model\n",
        "    random = RandomizedSearchCV(estimator = model, param_distributions= param_grid, n_iter = 20, cv = 3, verbose = 2, random_state = 42, n_jobs = -1)\n",
        "    # fit train data\n",
        "    random.fit(X_train, Y_train)\n",
        "\n",
        "    \n",
        "    print(\"\\n Best parameters: \",random.best_params_)"
      ]
    },
    {
      "cell_type": "code",
      "execution_count": 95,
      "metadata": {
        "id": "XFlw8BdEYcfC",
        "colab": {
          "base_uri": "https://localhost:8080/"
        },
        "outputId": "13bce3a2-da69-4fd3-f674-66ba7c2f5684"
      },
      "outputs": [
        {
          "output_type": "stream",
          "name": "stdout",
          "text": [
            "Fitting 3 folds for each of 20 candidates, totalling 60 fits\n",
            "\n",
            " Best parameters:  {'n_estimators': 338, 'min_samples_split': 5, 'min_samples_leaf': 4, 'max_features': 'sqrt', 'max_depth': 9, 'bootstrap': False}\n",
            "CPU times: user 7.06 s, sys: 146 ms, total: 7.21 s\n",
            "Wall time: 2min 12s\n"
          ]
        }
      ],
      "source": [
        "%%time\n",
        "# create parameters dict for tunning\n",
        "rf_para_grid = {'n_estimators': [int(x) for x in np.linspace(start = 200, stop = 400, num = 50)],\n",
        "               'max_features': ['auto', 'sqrt'],\n",
        "               'max_depth': [int(x) for x in np.linspace(3, 9, num = 3)],\n",
        "               'min_samples_split': [2, 5, 10],\n",
        "               'min_samples_leaf': [1, 2, 4],\n",
        "               'bootstrap': [True, False]}\n",
        "\n",
        "# passing data for hyper parameter tunning with Randomized search cv\n",
        "\n",
        "random_Search(RandomForestClassifier(), X_train, y_train, param_grid = rf_para_grid)\n",
        "\n"
      ]
    },
    {
      "cell_type": "markdown",
      "metadata": {
        "id": "cN05dpdgRQO_"
      },
      "source": [
        "### working with best model"
      ]
    },
    {
      "cell_type": "code",
      "execution_count": 97,
      "metadata": {
        "colab": {
          "base_uri": "https://localhost:8080/"
        },
        "id": "vh4AUr77wax5",
        "outputId": "1ba1f68d-2ee5-4957-d7c6-7a787f2c00d5"
      },
      "outputs": [
        {
          "output_type": "execute_result",
          "data": {
            "text/plain": [
              "0.9980119854272868"
            ]
          },
          "metadata": {},
          "execution_count": 97
        }
      ],
      "source": [
        "# print Area under ROC of Model On Test Set\n",
        "from sklearn.metrics import roc_auc_score\n",
        "score= roc_auc_score(y_test, y_pred_rf)\n",
        "score"
      ]
    },
    {
      "cell_type": "code",
      "execution_count": 98,
      "metadata": {
        "id": "SkytbPoGwawF"
      },
      "outputs": [],
      "source": [
        "# Create a dataframe with predicted result as data using best model\n",
        "predictions = pd.DataFrame(y_pred_rf)\n"
      ]
    },
    {
      "cell_type": "code",
      "execution_count": 100,
      "metadata": {
        "colab": {
          "base_uri": "https://localhost:8080/",
          "height": 206
        },
        "id": "bYNliUkEwaQ-",
        "outputId": "2e45f464-5e66-45f4-e77d-840867fe0b3b"
      },
      "outputs": [
        {
          "output_type": "execute_result",
          "data": {
            "text/plain": [
              "   0\n",
              "0  0\n",
              "1  1\n",
              "2  0\n",
              "3  0\n",
              "4  0"
            ],
            "text/html": [
              "\n",
              "  <div id=\"df-c6e75f71-67f8-4117-9c99-5a9d04e2d05b\">\n",
              "    <div class=\"colab-df-container\">\n",
              "      <div>\n",
              "<style scoped>\n",
              "    .dataframe tbody tr th:only-of-type {\n",
              "        vertical-align: middle;\n",
              "    }\n",
              "\n",
              "    .dataframe tbody tr th {\n",
              "        vertical-align: top;\n",
              "    }\n",
              "\n",
              "    .dataframe thead th {\n",
              "        text-align: right;\n",
              "    }\n",
              "</style>\n",
              "<table border=\"1\" class=\"dataframe\">\n",
              "  <thead>\n",
              "    <tr style=\"text-align: right;\">\n",
              "      <th></th>\n",
              "      <th>0</th>\n",
              "    </tr>\n",
              "  </thead>\n",
              "  <tbody>\n",
              "    <tr>\n",
              "      <th>0</th>\n",
              "      <td>0</td>\n",
              "    </tr>\n",
              "    <tr>\n",
              "      <th>1</th>\n",
              "      <td>1</td>\n",
              "    </tr>\n",
              "    <tr>\n",
              "      <th>2</th>\n",
              "      <td>0</td>\n",
              "    </tr>\n",
              "    <tr>\n",
              "      <th>3</th>\n",
              "      <td>0</td>\n",
              "    </tr>\n",
              "    <tr>\n",
              "      <th>4</th>\n",
              "      <td>0</td>\n",
              "    </tr>\n",
              "  </tbody>\n",
              "</table>\n",
              "</div>\n",
              "      <button class=\"colab-df-convert\" onclick=\"convertToInteractive('df-c6e75f71-67f8-4117-9c99-5a9d04e2d05b')\"\n",
              "              title=\"Convert this dataframe to an interactive table.\"\n",
              "              style=\"display:none;\">\n",
              "        \n",
              "  <svg xmlns=\"http://www.w3.org/2000/svg\" height=\"24px\"viewBox=\"0 0 24 24\"\n",
              "       width=\"24px\">\n",
              "    <path d=\"M0 0h24v24H0V0z\" fill=\"none\"/>\n",
              "    <path d=\"M18.56 5.44l.94 2.06.94-2.06 2.06-.94-2.06-.94-.94-2.06-.94 2.06-2.06.94zm-11 1L8.5 8.5l.94-2.06 2.06-.94-2.06-.94L8.5 2.5l-.94 2.06-2.06.94zm10 10l.94 2.06.94-2.06 2.06-.94-2.06-.94-.94-2.06-.94 2.06-2.06.94z\"/><path d=\"M17.41 7.96l-1.37-1.37c-.4-.4-.92-.59-1.43-.59-.52 0-1.04.2-1.43.59L10.3 9.45l-7.72 7.72c-.78.78-.78 2.05 0 2.83L4 21.41c.39.39.9.59 1.41.59.51 0 1.02-.2 1.41-.59l7.78-7.78 2.81-2.81c.8-.78.8-2.07 0-2.86zM5.41 20L4 18.59l7.72-7.72 1.47 1.35L5.41 20z\"/>\n",
              "  </svg>\n",
              "      </button>\n",
              "      \n",
              "  <style>\n",
              "    .colab-df-container {\n",
              "      display:flex;\n",
              "      flex-wrap:wrap;\n",
              "      gap: 12px;\n",
              "    }\n",
              "\n",
              "    .colab-df-convert {\n",
              "      background-color: #E8F0FE;\n",
              "      border: none;\n",
              "      border-radius: 50%;\n",
              "      cursor: pointer;\n",
              "      display: none;\n",
              "      fill: #1967D2;\n",
              "      height: 32px;\n",
              "      padding: 0 0 0 0;\n",
              "      width: 32px;\n",
              "    }\n",
              "\n",
              "    .colab-df-convert:hover {\n",
              "      background-color: #E2EBFA;\n",
              "      box-shadow: 0px 1px 2px rgba(60, 64, 67, 0.3), 0px 1px 3px 1px rgba(60, 64, 67, 0.15);\n",
              "      fill: #174EA6;\n",
              "    }\n",
              "\n",
              "    [theme=dark] .colab-df-convert {\n",
              "      background-color: #3B4455;\n",
              "      fill: #D2E3FC;\n",
              "    }\n",
              "\n",
              "    [theme=dark] .colab-df-convert:hover {\n",
              "      background-color: #434B5C;\n",
              "      box-shadow: 0px 1px 3px 1px rgba(0, 0, 0, 0.15);\n",
              "      filter: drop-shadow(0px 1px 2px rgba(0, 0, 0, 0.3));\n",
              "      fill: #FFFFFF;\n",
              "    }\n",
              "  </style>\n",
              "\n",
              "      <script>\n",
              "        const buttonEl =\n",
              "          document.querySelector('#df-c6e75f71-67f8-4117-9c99-5a9d04e2d05b button.colab-df-convert');\n",
              "        buttonEl.style.display =\n",
              "          google.colab.kernel.accessAllowed ? 'block' : 'none';\n",
              "\n",
              "        async function convertToInteractive(key) {\n",
              "          const element = document.querySelector('#df-c6e75f71-67f8-4117-9c99-5a9d04e2d05b');\n",
              "          const dataTable =\n",
              "            await google.colab.kernel.invokeFunction('convertToInteractive',\n",
              "                                                     [key], {});\n",
              "          if (!dataTable) return;\n",
              "\n",
              "          const docLinkHtml = 'Like what you see? Visit the ' +\n",
              "            '<a target=\"_blank\" href=https://colab.research.google.com/notebooks/data_table.ipynb>data table notebook</a>'\n",
              "            + ' to learn more about interactive tables.';\n",
              "          element.innerHTML = '';\n",
              "          dataTable['output_type'] = 'display_data';\n",
              "          await google.colab.output.renderOutput(dataTable, element);\n",
              "          const docLink = document.createElement('div');\n",
              "          docLink.innerHTML = docLinkHtml;\n",
              "          element.appendChild(docLink);\n",
              "        }\n",
              "      </script>\n",
              "    </div>\n",
              "  </div>\n",
              "  "
            ]
          },
          "metadata": {},
          "execution_count": 100
        }
      ],
      "source": [
        "predictions.head()"
      ]
    },
    {
      "cell_type": "markdown",
      "metadata": {
        "id": "RG9uGYSFX65g"
      },
      "source": [
        "# Conclusion\n",
        "\n",
        "According to this model, the predicted value we got, matches with the actual target values. The model is performing well.  We have performed EDA, preprocessing, build different models, visualized feature importance, did hyper parameter tunning and did prediction."
      ]
    },
    {
      "cell_type": "markdown",
      "metadata": {
        "id": "p5t_gn_nX0wm"
      },
      "source": [
        "## Congratulation for completing the assignment.\n",
        "You have learned a lot while doing this assignment."
      ]
    },
    {
      "cell_type": "code",
      "source": [
        ""
      ],
      "metadata": {
        "id": "3WuYbpz9WpSn"
      },
      "execution_count": null,
      "outputs": []
    }
  ],
  "metadata": {
    "colab": {
      "collapsed_sections": [],
      "name": "Electrical_Fault_detection_without_code (1).ipynb",
      "provenance": []
    },
    "kernelspec": {
      "display_name": "Python 3",
      "language": "python",
      "name": "python3"
    },
    "language_info": {
      "codemirror_mode": {
        "name": "ipython",
        "version": 3
      },
      "file_extension": ".py",
      "mimetype": "text/x-python",
      "name": "python",
      "nbconvert_exporter": "python",
      "pygments_lexer": "ipython3",
      "version": "3.7.6"
    }
  },
  "nbformat": 4,
  "nbformat_minor": 0
}